{
 "cells": [
  {
   "cell_type": "markdown",
   "metadata": {
    "id": "Itj58Z0YfY_i"
   },
   "source": [
    "[![Binder](https://mybinder.org/badge_logo.svg)](https://mybinder.org/v2/gh/KingaS03/Mathematics-for-Machine-Learning-and-Data-Science/master)\n",
    "\n",
    "[![Open In Colab](https://colab.research.google.com/assets/colab-badge.svg)](https://colab.research.google.com/github/KingaS03/Mathematics-for-Machine-Learning-and-Data-Science)\n",
    "\n",
    "<[ Linear Algebra ](LinearAlgebra.ipynb)|[ Statistics ](Statistics.ipynb)>"
   ]
  },
  {
   "cell_type": "markdown",
   "metadata": {
    "id": "i_zsQWIwfl3N"
   },
   "source": [
    "# 3. Calculus & Numerical Analysis\n",
    "\n",
    "Agenda\n",
    "- differentiation of univariate functions\n",
    "- rules of differentiation\n",
    "- differentiation of multivariate functions (the Jacobian, the Hessian)\n",
    "- chain rule for univariate and multivariate functions\n",
    "- the Taylor approximation\n",
    "- the Newton-Raphson method\n",
    "- gradient descent method\n",
    "- Newton's method\n",
    "- backpropagation\n",
    "- the method of Lagrange multipliers"
   ]
  },
  {
   "cell_type": "markdown",
   "metadata": {
    "id": "7PXTpdMIfw65"
   },
   "source": [
    "\n",
    "## 3.1. Motivation\n",
    "Find the optimal value of the model parameters of a neural network."
   ]
  },
  {
   "cell_type": "markdown",
   "metadata": {
    "id": "HYYsiM1afY_o"
   },
   "source": [
    "## 3.2. Functions\n",
    "A function $f:A \\to B$ associates to each element of the set $A$ an element of the set $B$.\n",
    "\n",
    "For our future context $A = \\mathbb{R}^n$ and $B = \\mathbb{R}^m$ for some natural numbers $n$ and $m$.\n",
    "\n",
    "**Exercise**\n",
    "\n",
    "1. To plot a function $f: \\mathbb{R} \\to \\mathbb{R}$ you can plug in the following code the formula of the function $f$ and execute the code."
   ]
  },
  {
   "cell_type": "code",
   "execution_count": null,
   "metadata": {
    "colab": {
     "base_uri": "https://localhost:8080/"
    },
    "id": "QR6xhkbiD_NW",
    "outputId": "0fe19d35-3249-46e6-c62a-62bc3bc07589"
   },
   "outputs": [],
   "source": [
    "np.linspace(-10, 10, num=201)"
   ]
  },
  {
   "cell_type": "code",
   "execution_count": null,
   "metadata": {
    "colab": {
     "base_uri": "https://localhost:8080/",
     "height": 430
    },
    "id": "jM8xBuWEfY_p",
    "outputId": "9c3b335d-a5cf-45af-c88a-dd2a556ef6d7"
   },
   "outputs": [],
   "source": [
    "from matplotlib import pyplot as plt\n",
    "import numpy as np\n",
    "import math\n",
    "\n",
    "def f(x):\n",
    "    return math.log(x) #formula of the function to be plotte\n",
    "\n",
    "# define input data\n",
    "inputs = np.linspace(0.1, 10, num=201)\n",
    "# calculate outputs\n",
    "outputs = [f(x) for x in inputs]\n",
    "# plot inputs vs outputs\n",
    "plt.plot(inputs, outputs)\n",
    "plt.show()"
   ]
  },
  {
   "cell_type": "markdown",
   "metadata": {
    "id": "9cFn1A1IfY_r"
   },
   "source": [
    "Plot the functions:\n",
    "$$\\begin{array}{llll}\n",
    "a)\\ f(x) = x^2 & b)\\ f(x) = x^3 & c)\\ f(x) = x^5 - 3x^4 + 2x & d)\\ f(x) = \\sin(x) \\\\\n",
    "e)\\ f(x) = \\cos(x) & f)\\ f(x) = e^x & g)\\ f(x) = \\ln(x) & h)\\ f(x) = \\sqrt{x}\n",
    "\\end{array}$$"
   ]
  },
  {
   "cell_type": "markdown",
   "metadata": {
    "id": "XdIGferrfY_r"
   },
   "source": [
    "**Remark**\n",
    "\n",
    "In $\\mathbb{R}^3$ a 2-dimensional surface parametrised by $(x,y)$ can be plotted using the below code. You see two solutions below also for giving a hint about the function value associated to the parameters $(x,y)$."
   ]
  },
  {
   "cell_type": "code",
   "execution_count": null,
   "metadata": {
    "colab": {
     "base_uri": "https://localhost:8080/",
     "height": 515
    },
    "id": "Z1GSV8UWfY_s",
    "outputId": "11f7d1be-6154-4e6d-c0a5-8a389cb7dd48",
    "scrolled": false
   },
   "outputs": [],
   "source": [
    "import matplotlib.pyplot as plt\n",
    "from mpl_toolkits.mplot3d.axes3d import Axes3D\n",
    "import numpy as np\n",
    "\n",
    "x = np.arange(-10, 10, 0.5)\n",
    "y = np.arange(-10, 10, 0.5)\n",
    "X, Y = np.meshgrid(x, y)\n",
    "Z = X**2 + Y**2 #here comes the formula describing the height associated to the point (X,Y) in the parameter space\n",
    "\n",
    "fig = plt.figure(figsize = (14, 7))\n",
    "\n",
    "#first subplot\n",
    "ax = fig.add_subplot(1, 2, 1, projection='3d')\n",
    "\n",
    "surf = ax.plot_surface(X, Y, Z, rstride=1, cstride=1, cmap=plt.cm.jet, linewidth=0)\n",
    "fig.colorbar(surf)\n",
    "\n",
    "#fig.tight_layout()\n",
    "\n",
    "#second subplot\n",
    "ax = fig.add_subplot(1, 2, 2, projection='3d')\n",
    "ax.contour3D(X, Y, Z, 50, cmap='binary')\n",
    "ax.set_xlabel('x')\n",
    "ax.set_ylabel('y')\n",
    "ax.set_zlabel('z')\n",
    "\n",
    "plt.show()"
   ]
  },
  {
   "cell_type": "markdown",
   "metadata": {
    "id": "jJRv6miZ_yhE"
   },
   "source": [
    "Other possibilities for creating a 3-dimensional plot."
   ]
  },
  {
   "cell_type": "code",
   "execution_count": null,
   "metadata": {
    "colab": {
     "base_uri": "https://localhost:8080/",
     "height": 495
    },
    "id": "M39JHSyZ-7_V",
    "outputId": "995fd4b7-d978-4f85-c96a-89185d936960"
   },
   "outputs": [],
   "source": [
    "# Create arrays of x and y values with a specified range and step size\n",
    "x = np.arange(-10, 10, 0.5)\n",
    "y = np.arange(-10, 10, 0.5)\n",
    "\n",
    "# Generate a mesh grid from the x and y arrays\n",
    "X, Y = np.meshgrid(x, y)\n",
    "\n",
    "# Calculate Z as the sum of the squares of X and Y\n",
    "Z = X**2 + Y**2\n",
    "\n",
    "# Create a figure object to hold the subplots\n",
    "fig = plt.figure(figsize=(14, 7))\n",
    "\n",
    "# First subplot - Wireframe Plot\n",
    "ax1 = fig.add_subplot(1, 2, 1, projection='3d')\n",
    "# Create a wireframe plot using the X, Y, and Z arrays\n",
    "wire = ax1.plot_wireframe(X, Y, Z, color='r')\n",
    "ax1.set_title('3D Wireframe Plot')\n",
    "\n",
    "# Second subplot - Scatter Plot\n",
    "ax2 = fig.add_subplot(1, 2, 2, projection='3d')\n",
    "# Create a scatter plot using the X, Y, and Z arrays\n",
    "scatter = ax2.scatter(X, Y, Z, c=Z, cmap='viridis')  # Color by height\n",
    "ax2.set_title('3D Scatter Plot')\n",
    "\n",
    "# Show the plots\n",
    "plt.show()"
   ]
  },
  {
   "cell_type": "code",
   "execution_count": null,
   "metadata": {
    "colab": {
     "base_uri": "https://localhost:8080/",
     "height": 576
    },
    "id": "XMtvTCTE_fAj",
    "outputId": "56dba0b4-44ef-4a4c-c737-66aacf3b985d"
   },
   "outputs": [],
   "source": [
    "import matplotlib.pyplot as plt\n",
    "from mpl_toolkits.mplot3d import Axes3D\n",
    "import numpy as np\n",
    "\n",
    "# Create arrays of x and y values\n",
    "x = np.arange(-10, 10, 0.5)\n",
    "y = np.arange(-10, 10, 0.5)\n",
    "\n",
    "# Generate a mesh grid from the x and y arrays\n",
    "X, Y = np.meshgrid(x, y)\n",
    "\n",
    "# Calculate Z as the sum of the squares of X and Y\n",
    "Z = X**2 + Y**2\n",
    "\n",
    "fig = plt.figure(figsize=(10, 7))\n",
    "ax = fig.add_subplot(111, projection='3d')\n",
    "\n",
    "# Plotting a wireframe with color based on Z value\n",
    "for i in range(Z.shape[0]-1): # for each row\n",
    "    for j in range(Z.shape[1]-1): # for each column\n",
    "        x = [X[i, j], X[i+1, j], X[i+1, j+1], X[i, j+1], X[i, j]] # points forming the small square\n",
    "        y = [Y[i, j], Y[i+1, j], Y[i+1, j+1], Y[i, j+1], Y[i, j]]\n",
    "        z = [Z[i, j], Z[i+1, j], Z[i+1, j+1], Z[i, j+1], Z[i, j]]\n",
    "        mid_z = np.mean(z) # mean z value for color mapping\n",
    "        color = plt.cm.jet((mid_z - Z.min()) / (Z.max() - Z.min())) # color mapping\n",
    "        ax.plot(x, y, z, color=color)\n",
    "\n",
    "ax.set_xlabel('X')\n",
    "ax.set_ylabel('Y')\n",
    "ax.set_zlabel('Z')\n",
    "\n",
    "plt.show()"
   ]
  },
  {
   "cell_type": "markdown",
   "metadata": {
    "id": "5fesmgZtfY_s"
   },
   "source": [
    "### 3.2.1. Differentiation of a univariate function\n",
    "----------------------------\n",
    "**Definition of the derivative of a univariate function**<br>\n",
    "\n",
    "For a function $f:\\mathbb{R} \\to \\mathbb{R}$ we would like to characterise its local linear behaviour. Therefore we take two points $x$ and $x+\\Delta x$ and their corresponding values $f(x)$ and $f(x+\\Delta x)$. We are connecting these points by a line and we will calculate the gradient of this line\n",
    "\n",
    "$$m = \\frac{\\Delta f}{\\Delta x} = \\frac{f(x+\\Delta x)-f(x)}{(x+\\Delta x) - x} = \\frac{f(x+\\Delta x)-f(x)}{\\Delta x}$$\n",
    "\n",
    "Now we are going to take smaller and smaller values for the increment $\\Delta x$. We define the derivative of $f$ in point $x$ as the value of the above quotient when $\\Delta x$ is getting infinitesimally small.\n",
    "\n",
    "In mathematical formalism the definition of the first order derivative of $f$ looks in the following way:\n",
    "\n",
    "$$f'(x) = \\lim\\limits_{\\Delta x \\to 0} \\frac{f(x+\\Delta x)-f(x)}{\\Delta x}$$\n",
    "\n",
    "-------------------"
   ]
  },
  {
   "cell_type": "code",
   "execution_count": null,
   "metadata": {
    "colab": {
     "base_uri": "https://localhost:8080/",
     "height": 941
    },
    "id": "i65AWhh5fY_t",
    "outputId": "330c218d-13d3-4678-b26e-c8a7a8f8c796",
    "scrolled": false
   },
   "outputs": [],
   "source": [
    "from IPython.display import IFrame\n",
    "\n",
    "IFrame(\"https://www.geogebra.org/classic/enyhcvgw\", 1100, 900)"
   ]
  },
  {
   "cell_type": "markdown",
   "metadata": {
    "id": "NMFd1ZIFfY_t"
   },
   "source": [
    "### 3.2.2. Differentiation rules\n",
    "\n",
    "Observe that the above defined derivative satisfies the following properties:\n",
    "\n",
    "0. constant rule: $c' = 0$, for any constant $c \\in \\mathbb{R}$\n",
    "\n",
    "1. constant mutiple rule: $(cf(x))' = c f'(x)$, where $c \\in \\mathbb{R}$\n",
    "\n",
    "2. sum and difference rule: $(f(x) \\pm g(x))' = f'(x)\\pm g'(x)$\n",
    "\n",
    "3. product rule: $(f(x) \\cdot g(x))' = f'(x)g(x) + f(x)g'(x)$\n",
    "\n",
    "4. power rule: $\\left(x^r\\right)' = r x^{r-1}$, where $r \\in \\mathbb{R}\\setminus\\{0\\}$\n",
    "\n",
    "5. exponential derivative: $(e^x)' = e^x$, $(a^x)' = ln(a) a^x$, where $a \\in (0,\\infty) \\setminus\\{1\\}$\n",
    "\n",
    "6. logarithm derivative: $(\\ln(x))' = \\frac{1}{x}$, $\\log_a(x) = \\frac{1}{\\ln(a)x}$, where $a \\in (0,\\infty) \\setminus\\{1\\}$ and $x \\neq 0$\n",
    "\n",
    "7. trigonometric derivatives: $(\\sin(x))' = \\cos(x)$, $(\\cos(x))' = -\\sin(x)$,\n",
    "\n",
    "8. chain rule: $\\left(f(g(x))\\right)' = f'(g(x)) \\cdot g'(x)$\n",
    "\n",
    "<!-- <center>\n",
    "<img src=\"Images/DifferentiationRules.png\" width=\"500\">\n",
    "</center>-->\n"
   ]
  },
  {
   "cell_type": "markdown",
   "metadata": {
    "id": "yftMv1wQfY_u"
   },
   "source": [
    "-------------------\n",
    "**Exercise:**\n",
    "\n",
    "<p stype = \"padding-bottom: 0.5cm\"> 1. Plot the following functions together with their first order derivatives:\n",
    "$$\\begin{array}{llll}\n",
    "a)\\ f(x) = x^2 & b)\\ f(x) = x^3 & c)\\ f(x) = x^5 - 3x^4 + 2x & d)\\ f(x) = \\sin(x) \\\\\n",
    "e)\\ f(x) = \\cos(x) & f)\\ f(x) = e^x & g)\\ f(x) = \\ln(x) & h)\\ f(x) = \\sqrt{x}\n",
    "\\end{array}$$</p>\n",
    "\n",
    "<p stype = \"padding-bottom: 0.5cm\"> 2. Consider the following functions and calculate their requested derivatives:\n",
    "\\begin{align*}\n",
    "&(1)\\quad f(x) = x^3 - 3x + 1 + \\frac{1}{x}, \\ f'(x) = ?, f'(1) = ?\\\\[0.5em]\n",
    "&(2)\\quad f(x) = e^x + 2\\sin(x) + x^3,\\ f''(x) = ?, f''(0) = ?\\\\[0.5em]\n",
    "&(3)\\quad f(x) = \\sqrt{x},\\ f''(x) = ?, f'(1) = ?\\\\[0.5em]\n",
    "&(4)\\quad f(x) = \\frac{\\sin(3x^4 + 2x)}{a^x},\\ f'(x) = ?, f'(0) = ?\\\\[0.5em]\n",
    "&(5)\\quad f(x) = e^{x^2-3},\\ f'(x) = ?, f'(0) = ?\\\\[0.5em]\n",
    "&(6)\\quad f(x) = \\frac{\\sin(x)}{\\cos(x)},\\ f'(x) = ?, f'(\\pi) = ?\n",
    "\\end{align*}</p>"
   ]
  },
  {
   "cell_type": "code",
   "execution_count": null,
   "metadata": {
    "colab": {
     "base_uri": "https://localhost:8080/",
     "height": 430
    },
    "id": "NxQc5NlsDSpZ",
    "outputId": "d98810b5-f7fc-401b-9f89-f30547d7cbd3"
   },
   "outputs": [],
   "source": [
    "from matplotlib import pyplot as plt\n",
    "import numpy as np\n",
    "import math\n",
    "#import sympy as sp\n",
    "\n",
    "def f(x):\n",
    "    return math.cos(x)  # Formula of the function to be plotted\n",
    "\n",
    "def df(x): # def df(x, f)\n",
    "    return -math.sin(x)  # Formula of the first-order derivative of the function\n",
    "    # return sp.diff(f, x)\n",
    "\n",
    "# Define input data\n",
    "inputs = np.linspace(-10, 10, num=201)\n",
    "# Calculate outputs for the function\n",
    "outputs = [f(x) for x in inputs]\n",
    "# Calculate outputs for the derivative\n",
    "derivatives = [df(x) for x in inputs]\n",
    "\n",
    "# Create a plot for the function\n",
    "plt.plot(inputs, outputs, label='f(x) = cos(x)')\n",
    "\n",
    "# Create a plot for the derivative\n",
    "plt.plot(inputs, derivatives, label=\"f'(x) = -sin(x)\", linestyle='--')\n",
    "\n",
    "# Adding legend to distinguish the plots\n",
    "plt.legend()\n",
    "\n",
    "# Show the plots\n",
    "plt.show()"
   ]
  },
  {
   "cell_type": "markdown",
   "metadata": {
    "id": "XwsMUvr5fY_u"
   },
   "source": [
    "\n",
    "### 3.2.3. Differentiation of multivariate functions\n",
    "\n",
    "-------------\n",
    "**Definition of the partial derivative**\n",
    "\n",
    "When the function $f:\\mathbb{R}^n \\to \\mathbb{R}$ depends on more variables $x_1, x_2, \\ldots, x_n$ and it is nice enough, we can calculate its partial derivatives w.r.t. each variable. The partial derivative of the function $f$ in a point $x^* =(x_1^*, x_2^*, \\ldots, x_n^*)$ w.r.t. the variable $x_1$ can be calculated by fixing the values of the other parameters to be equal to $x_2^*, \\ldots, x_n^*$ and differentiating the so resulting function by its only parameter $x_1$.\n",
    "\n",
    "To describe the formula in a mathematically exact way let us consider the function $g: \\mathbb{R} \\to \\mathbb{R}$ defined by the formula\n",
    "\n",
    "$$g(x_1) = f(x_1, x_2^*, \\ldots, x_n^*)$$\n",
    "\n",
    "Then the partial derivative of $f$ w.r.t. $x_1$ is denoted by $\\displaystyle\\frac{\\partial f}{\\partial x_1}$ and is equal to the derivative of $g$ in the point $x_1^*$, that is\n",
    "\n",
    "$$\\frac{\\partial f}{\\partial x_1}(x_1^*,, x_2^*, \\ldots, x_n^*) = g'(x_1^*) = \\lim_{\\Delta x_1^* \\to 0} \\frac{g(x_1^* + \\Delta x_1) - g(x_1^*)}{\\Delta x_1} = \\lim_{\\Delta x_1 \\to 0}\\frac{f(x_1^* + \\Delta x_1, x_2^*, \\ldots, x^*_n) - f(x_1^*, x_2^*, \\ldots, x^*_n)}{\\Delta x_1}$$\n",
    "\n",
    "---------------\n",
    "\n",
    "Alternatively we can use for this partial derivative also other notations, like the shorter\n",
    "\n",
    "$$\\frac{\\partial f}{\\partial x_1}(x^*) \\quad \\mbox{or} \\quad \\partial_{x_1} f(x^*)$$\n",
    "\n",
    "When it is clear that we are performing our calculations in the point $x^*$ and there is no source for confusion, we can omit $x^*$ also and work just with\n",
    "\n",
    "$$\\frac{\\partial f}{\\partial x_1} \\quad \\mbox{or} \\quad \\partial_{x_1} f$$\n",
    "\n",
    "We can proceed similarly in the case of the other variables to calculate all partial derivatives\n",
    "\n",
    "$$\\frac{\\partial f}{\\partial x_2}(x^*), \\quad \\frac{\\partial f}{\\partial x_3}(x^*), \\quad \\ldots \\quad, \\frac{\\partial f}{\\partial x_n}(x^*)$$\n",
    "\n",
    "-------------\n",
    "**Definition of the Jacobian**\n",
    "\n",
    "The row vector of all partial derivatives is called the **gradient** of the function or the **Jacobian** of it, that is\n",
    "\n",
    "$$ \\nabla f (x^*) = \\left( \\frac{\\partial f}{\\partial x_1} (x^*), \\frac{\\partial f}{\\partial x_2}(x^*), \\ldots \\frac{\\partial f}{\\partial x_n}(x^*)\\right)$$\n",
    "\n",
    "------------------\n",
    "\n",
    "**Remark**\n",
    "\n",
    "The vectors $\\left(\\begin{array}{l}\n",
    "1\\\\\n",
    "0\\\\\n",
    "0\\\\\n",
    "\\vdots\\\\\n",
    "0\\\\\n",
    "\\frac{\\partial f}{\\partial x_1} (x^*)\n",
    "\\end{array}\\right), \\left(\\begin{array}{l}\n",
    "0\\\\\n",
    "1\\\\\n",
    "0\\\\\n",
    "\\vdots\\\\\n",
    "0\\\\\n",
    "\\frac{\\partial f}{\\partial x_2} (x^*)\n",
    "\\end{array}\\right), \\ldots, \\left(\\begin{array}{l}\n",
    "0\\\\\n",
    "0\\\\\n",
    "\\vdots\\\\\n",
    "0\\\\\n",
    "1\\\\\n",
    "\\frac{\\partial f}{\\partial x_n} (x^*)\n",
    "\\end{array}\\right) \\in \\mathbb{R}^{n+1}$ span the tangent space of the surface described by the parametrisation $f: \\mathbb{R}^n \\to \\mathbb{R}$.\n",
    "\n",
    "With the below applet you can get a visual understanding of the tangent space to a surface given by a parametrisation $f: \\mathbb{R}^2 \\to \\mathbb{R}$ and its relation to the parial derivatives of the function.\n",
    "\n",
    "* You can enter a function of two variables.\n",
    "\n",
    "* You can turn on and off the following things:\n",
    "\n",
    "    * the graph of f;\n",
    "\n",
    "    * the intersection with planes that have a fixed $x$ or $y$ coordinate (i.e. the restriction of $f(x,y)$ to $f(a,y)$ or $f(x,b)$);\n",
    "\n",
    "    * the tangents to these curves (the slopes of these lines are the partial derivatives);\n",
    "\n",
    "    * the tangent plane (the plane that contains the two tangent lines).\n",
    "\n",
    "* You can move the point you are interested in by either using the sliders, or by dragging the point labelled A."
   ]
  },
  {
   "cell_type": "code",
   "execution_count": null,
   "metadata": {
    "colab": {
     "base_uri": "https://localhost:8080/",
     "height": 841
    },
    "id": "AXnbVMMqfY_u",
    "outputId": "85466c58-18c5-461d-cd9c-176968faffe5",
    "scrolled": false
   },
   "outputs": [],
   "source": [
    "IFrame(\"https://www.geogebra.org/classic/gmwuqfvx\", 1200, 800)"
   ]
  },
  {
   "cell_type": "markdown",
   "metadata": {
    "id": "NtabX0QEfY_v"
   },
   "source": [
    "**Further generalisation of the Jacobian**\n",
    "\n",
    "For a function $f: \\mathbb{R}^n \\to \\mathbb{R}^m$ having also a multivariate output, we can take each output and calculate its partial derivative w.r.t. each input variable $x_1, x_2, \\ldots, x_n$.\n",
    "\n",
    "Let us introduce the $f_1, f_2, \\ldots, f_m: \\mathbb{R}^n \\to \\mathbb{R}$ notations for the components of the output of $f$, i.e.\n",
    "\n",
    "$$f: x = \\left(\n",
    "\\begin{array}{c}\n",
    "x_1\\\\\n",
    "x_2\\\\\n",
    "\\vdots\\\\\n",
    "x_n\n",
    "\\end{array}\n",
    "\\right) \\in \\mathbb{R}^n \\mapsto \\left(\n",
    "\\begin{array}{c}\n",
    "f_1(x)\\\\\n",
    "f_2(x)\\\\\n",
    "\\vdots\\\\\n",
    "f_m(x)\n",
    "\\end{array}\n",
    "\\right)$$\n",
    "\n",
    "For the first output $f_1$ we will have $n$ partial derivatives, i.e.\n",
    "\n",
    "$$\\frac{\\partial f_1}{\\partial x_1}(x^*), \\quad \\frac{\\partial f_1}{\\partial x_2}(x^*), \\quad \\ldots \\quad, \\frac{\\partial f_1}{\\partial x_n}(x^*)$$\n",
    "\n",
    "And for each output the same will happen. We will organise these partial derivatives in a matrix in such a way that in the $i$th row the derivatives of $f_i$ will be enlisted, and at the intersection of $i$th row and $j$th column the partial derivative\n",
    "\n",
    "$$\\frac{\\partial f_i}{\\partial x_j}(x^*)$$\n",
    "\n",
    "will be stored.\n",
    "\n",
    "This way we obtain the matrix\n",
    "\n",
    "$$\\displaystyle\\nabla f (x^*) = \\left(\n",
    "\\begin{array}{cccc}\n",
    "\\frac{\\partial f_1}{\\partial x_1}(x^*) & \\frac{\\partial f_1}{\\partial x_2}(x^*) & \\cdots & \\frac{\\partial f_1}{\\partial x_n}(x^*)\\\\\n",
    "\\frac{\\partial f_2}{\\partial x_1}(x^*) & \\frac{\\partial f_2}{\\partial x_2}(x^*) & \\cdots & \\frac{\\partial f_2}{\\partial x_n}(x^*)\\\\\n",
    "\\vdots & \\vdots & \\ddots & \\vdots\\\\\n",
    "\\frac{\\partial f_m}{\\partial x_1}(x^*) & \\frac{\\partial f_m}{\\partial x_2}(x^*) & \\cdots & \\frac{\\partial f_m}{\\partial x_n}(x^*)\n",
    "\\end{array}\n",
    "\\right)$$\n",
    "\n",
    "This matrix is called the Jacobian of the function $f$.\n",
    "\n",
    "Sometimes for the notation of the above Jacobian matrix the $\\nabla_x f$, $\\frac{\\partial f}{\\partial x}$ or $\\partial_x f$ notations are also used. These latter notations are preferred when the function $f$ might depend on other variables as well and we would like to emphasize w.r.t. which variables do we consider the Jacobian."
   ]
  },
  {
   "cell_type": "markdown",
   "metadata": {
    "id": "Dvade7OrfY_v"
   },
   "source": [
    "-----------------\n",
    "**Exercise**\n",
    "\n",
    "The supervisor of a building site has dropped their mobile phone into a pit with an uneven floor, and it has rolled to the lowest point. To make matters worse, the pit has subsequently been filled with sand such that the phone is covered and cannot be seen. To find where in the pit their phone is, the supervisor has crafted a ‘dip-stick’ with a head designed to measure the slope of the floor if it is poked straight down through the sand.\n",
    "\n",
    "Find the phone of the supervisor by clicking on different spots in the sand.\n",
    "\n",
    "In the first exercise you will receive information just about the depth of the whole.\n",
    "\n",
    "In the second exercise you will receive information also about the gradient of the depth function."
   ]
  },
  {
   "cell_type": "code",
   "execution_count": null,
   "metadata": {
    "id": "ta_i42xyfY_v",
    "scrolled": false
   },
   "outputs": [],
   "source": [
    "%run \"readonly/sandpit-exercises.ipynb\"\n",
    "sandpit_depth_only()"
   ]
  },
  {
   "cell_type": "code",
   "execution_count": null,
   "metadata": {
    "id": "1SRF8G0ZfY_w",
    "scrolled": false
   },
   "outputs": [],
   "source": [
    "%run \"readonly/sandpit-exercises.ipynb\"\n",
    "sandpit_intro()"
   ]
  },
  {
   "cell_type": "code",
   "execution_count": null,
   "metadata": {
    "id": "d1Vg5vi-fY_w"
   },
   "outputs": [],
   "source": [
    "%run \"readonly/sandpit-exercises.ipynb\"\n",
    "sandpit_random()"
   ]
  },
  {
   "cell_type": "markdown",
   "metadata": {
    "id": "gYRgMKMUfY_w"
   },
   "source": [
    "There are multiple wholes in the sandpit. The phone is in the deepest one. Try to find it."
   ]
  },
  {
   "cell_type": "code",
   "execution_count": null,
   "metadata": {
    "id": "1REZ3MYkfY_w",
    "scrolled": false
   },
   "outputs": [],
   "source": [
    "%run \"readonly/sandpit-exercises.ipynb\"\n",
    "sandpit_multiple_minima()"
   ]
  },
  {
   "cell_type": "markdown",
   "metadata": {
    "id": "R-tdS0aYfY_w"
   },
   "source": [
    "There is a deep but narrow well that the phone may have fallen into. See if you can find the phone in this case."
   ]
  },
  {
   "cell_type": "code",
   "execution_count": null,
   "metadata": {
    "id": "f-Z90xHjfY_x",
    "scrolled": false
   },
   "outputs": [],
   "source": [
    "%run \"readonly/sandpit-exercises.ipynb\"\n",
    "sandpit_well()"
   ]
  },
  {
   "cell_type": "markdown",
   "metadata": {
    "id": "_mL4sa4jfY_x"
   },
   "source": [
    "---------------\n",
    "\n",
    "### 3.2.4. Multivariate chain rule\n",
    "\n",
    "\n",
    "Having introduced the Jacobian, we can formulate the multivariate chain rule.\n",
    "\n",
    "-------------\n",
    "**The multivariate chain rule**\n",
    "\n",
    "For two functions $f: \\mathbb{R}^n \\to \\mathbb{R}^k$ and $g: \\mathbb{R}^m \\to \\mathbb{R}^n$ consider the composite function $f \\circ g: \\mathbb{R}^m \\to \\mathbb{R}^k$.\n",
    "\n",
    "<center>\n",
    "<img src=\"https://github.com/KingaS03/Mathematics-for-Machine-Learning-and-Data-Science/blob/master/Images/Composite_Function.png?raw=1\" width=\"250\">\n",
    "</center>\n",
    "\n",
    "The Jacobian of the composite function $f \\circ g$ in the point $x^*$ is:\n",
    "\n",
    "$$(\\nabla f \\circ g) (x^*) = (\\nabla f)(g(x^*)) \\cdot (\\nabla g)(x^*)$$\n"
   ]
  },
  {
   "cell_type": "markdown",
   "metadata": {
    "id": "7-O2C7WLfY_x"
   },
   "source": [
    "--------------------\n",
    "\n",
    "**Exercise**\n",
    "\n",
    "(1) Calculate the gradient of the function $f(x, y, z) = \\cos(z) \\cdot e^{y^2 \\cdot x}.$\n",
    "\n",
    "(2) Calculate the partial derivatives of $f(x,y,z) = x^2y+y^2z+z^2x$.\n",
    "\n",
    "(3) For $f(x,y)=yx,\\ x(t)=t,\\ y(t)=sin⁡(t)$ calculate $\\frac{\\partial f(x(t), y(t))}{\\partial t} = \\nabla_t f(x(t),y(t))$.\n",
    "\n",
    "(4) For $f(x,y,z)=\\cos(z)e^{y^2 x},\\ x(t)=t-1,\\ y(t)=t+1,\\ z(t) = t^2$ calculate $\\frac{\\partial f(x(t), y(t), z(t))}{\\partial t} = \\nabla_t f(x(t),y(t),z(t))$.\n",
    "\n",
    "(5) Calculate the Jacobian of $f(x,y,z) = x^2+3e^ye^z+cos(x)sin(z)$.\n",
    "\n",
    "(6) Calculate the Jacobian of the function $f(x,y)= (\\underbrace{x^2-y^2}_{f_1(x,y)}, \\underbrace{2xy}_{f_2(x,y)})$.\n",
    "\n",
    "(7) Calculate the Jacobian of $f \\circ g$, where $f(x_1,x_2)=x_1^2\\cdot x_2^2 + x_1\\cdot x_2$ and $g(t) = (\\underbrace{1-t^2}_{g_1(t)}, \\underbrace{1+t^2}_{g_2(t)})$\n",
    "\n",
    "(8) Calculate the Jacobian of $f \\circ g \\circ h$, where\n",
    "\n",
    "\\begin{align*}\n",
    "&f(x_1,x_2)=x_1^2−x_2^2,\\\\[0.5em]\n",
    "&g(u_1,u_2)=(\\underbrace{2u_1+3u_2}_{g_1(u_1,u_2)}, \\underbrace{2u_1-3u_2}_{g_2(u_1,u_2))})\\\\[0.5em]\n",
    "&h(t) = (\\underbrace{\\cos(t/2)}_{h_1(t)}, \\underbrace{\\sin(2t)}_{h_2(t)})\n",
    "\\end{align*}\n",
    "\n",
    "-------------\n",
    "\n",
    "### 3.2.5. Higher order differentials (uni- and multivariate case)"
   ]
  },
  {
   "cell_type": "markdown",
   "metadata": {
    "id": "0HrjgD67fY_y"
   },
   "source": [
    "-------\n",
    "**Definition of higher order differentials / derivatives**\n",
    "\n",
    "For a function $f: \\mathbb{R}\\to \\mathbb{R}$ we can calculate its derivative in each point, this means that the derivative $f'$ of the function is again a function mapping each point $x \\in \\mathbb{R}$ to the derivative $f'(x)$.\n",
    "\n",
    "Now we can differentiate again the first order derivative $f'$ and as such we obtain the second order derivative, i.e.\n",
    "\n",
    "$$f''(x) = \\lim\\limits_{\\Delta x \\to 0}\\frac{f'(x+\\Delta x) - f'(x)}{\\Delta x}$$\n",
    "\n",
    "The second order derivative can be again differentiated and this way we obtain the third order derivative of a function denoted by $f'''$ or $f^{(3)}$.\n",
    "\n",
    "The $n$th order derivative of a function $f: \\mathbb{R}\\to \\mathbb{R}$ in the point $x$ is denoted by $f^{(n)}(x)$ if it exists.\n",
    "\n",
    "-------------------\n",
    "**Multivariate case**\n",
    "\n",
    "We extend the notion of second order derivative to a function $f: \\mathbb{R}^n \\to \\mathbb{R}$.\n",
    "\n",
    "Consider as starting point the Jacobian of the function (which corresponds to the derivative from the univariate case). Let us calculate all partial derivatives of the first order partial derivatives of the gradient function\n",
    "\n",
    "$$\\nabla f = \\left( \\frac{\\partial f}{\\partial x_1}, \\frac{\\partial f}{\\partial x_2}, \\ldots \\frac{\\partial f}{\\partial x_n}\\right),$$\n",
    "\n",
    "and organise them in the following way in a matrix\n",
    "\n",
    "$$\\nabla^2 f = \\left(\n",
    "\\begin{array}{cccc}\n",
    "\\frac{\\partial^2 f}{\\partial x_1\\partial x_1} & \\frac{\\partial^2 f}{\\partial x_1\\partial x_2} & \\cdots & \\frac{\\partial^2 f}{\\partial x_1\\partial x_n} \\\\\n",
    "\\frac{\\partial^2 f}{\\partial x_2\\partial x_1} & \\frac{\\partial^2 f}{\\partial x_2\\partial x_2} & \\cdots & \\frac{\\partial^2 f}{\\partial x_2\\partial x_n} \\\\\n",
    "\\vdots & \\vdots & \\ddots & \\vdots\\\\\n",
    "\\frac{\\partial^2 f}{\\partial x_n\\partial x_1} & \\frac{\\partial^2 f}{\\partial x_n\\partial x_2} & \\cdots & \\frac{\\partial^2 f}{\\partial x_n\\partial x_n}\n",
    "\\end{array}\n",
    "\\right)$$\n",
    "\n",
    "then the resulting matrix is called the **Hessian matrix**.\n",
    "\n",
    "-----------\n",
    "\n",
    "The value of the Hessian matrix can be used\n",
    "\n",
    "- to derive better local approximation for a function than the linear one,\n",
    "- to find out whether a critical point is a minimum or maximum point or saddle point."
   ]
  },
  {
   "cell_type": "markdown",
   "metadata": {
    "id": "S0TyNcyRfY_y"
   },
   "source": [
    "## 3.3. Applications of the differentials\n",
    "\n",
    "### 3.3.1. The Taylor series approximation\n",
    "\n",
    "In the below GeoGebra app the Taylor approximations of order $n$ of the $\\sin$ function around the point $x_0$ are visualised. You can change $x_0$ and $n$ on the sliders. You can change the function by typing in the bottom \"Input...\" field of the app $f(x) = x^2/(x+1)$ for example."
   ]
  },
  {
   "cell_type": "code",
   "execution_count": null,
   "metadata": {
    "colab": {
     "base_uri": "https://localhost:8080/",
     "height": 841
    },
    "id": "GC1I6JHtfY_y",
    "outputId": "4a977382-c1cf-4d4b-d9ba-b044b7a8f765",
    "scrolled": false
   },
   "outputs": [],
   "source": [
    "IFrame(\"https://www.geogebra.org/classic/kc2umqak\", 1000, 800)"
   ]
  },
  {
   "cell_type": "markdown",
   "metadata": {
    "id": "Dv51psV6fY_y"
   },
   "source": [
    "--------------\n",
    "**Definition of the Taylor polynomial of order $n$**\n",
    "\n",
    "The Taylor polynomial of an $n$-times differentiable function $f:\\mathbb{R} \\to \\mathbb{R}$ in a point $x_0$ is the polynomial $p$ of order $n$, for which it holds that\n",
    "\n",
    "$$\\left\\{\n",
    "\\begin{align*}\n",
    "f(x_0) &= p(x_0)\\\\\n",
    "f'(x_0) &= p'(x_0)\\\\\n",
    "f''(x_0) &= p''(x_0)\\\\\n",
    "\\vdots\\\\\n",
    "f^{(n)}(x_0) &= p^{(n)}(x_0)\n",
    "\\end{align*}\\right.$$\n",
    "\n",
    "-------\n",
    "**Remark**<br>\n",
    "1. Observe that the Taylor polynomial is uniquely defined and it is given by the following formula\n",
    "\n",
    "$$p(x) = \\frac{f(x_0)}{0!} + \\frac{f'(x_0)}{1!}(x-x_0) + \\frac{f''(x_0)}{2!}(x-x_0)^2 + \\cdots + \\frac{f^{(n)}(x_0)}{n!} (x-x_0)^n$$\n",
    "\n",
    "Where $0! = 1$ by convention.\n",
    "\n",
    "2. If the function is nice enough, then the approximation error $f(x) - p(x)$ is of the magnitude of $(x-x_0)^{n+1}$.\n",
    "\n",
    "---------------------------"
   ]
  },
  {
   "cell_type": "markdown",
   "metadata": {
    "id": "tQau1XRZfY_y"
   },
   "source": [
    "**The Taylor approximation of a multivariate function**<br>\n",
    "For a function $f: \\mathbb{R}^n \\to \\mathbb{R}$ the Taylor approximation of order 1 is\n",
    "\n",
    "$$l(x) = \\frac{f(x_0)}{0!} + \\frac{\\nabla f(x_0)}{1!}\\cdot (x-x_0),$$\n",
    "\n",
    "where $\\nabla f(x_0)$ denotes the Jacobian of the function in point $x_0$ and this row vector is multiplied by the column vector $x-x_0$ in the above formula.\n",
    "\n",
    "For a function $f: \\mathbb{R}^n \\to \\mathbb{R}$ the Taylor approximation of order 2 is\n",
    "\n",
    "$$q(x) = \\frac{f(x_0)}{0!} + \\frac{1}{1!}\\nabla f(x_0)\\cdot (x-x_0) + \\frac{1}{2!} (x-x_0)^T \\cdot \\nabla^2 f(x_0) \\cdot (x-x_0),$$\n",
    "\n",
    "where $\\nabla^2 f(x_0)$ denotes the Hessian of the function in point $x_0$ and this matrix  is multiplied from left by the row vector $(x-x_0)^T$ and from the right by the column vector $x-x_0$ in the above formula.\n",
    "\n",
    "------------------------\n",
    "\n",
    "**Remark**<br>\n",
    "The gradient or Jacobian of the function $f$ has the following two properties, which are crucial for our forthcoming applications:\n",
    "- in a fixed point $x =(x_1, x_2, \\ldots, x_n)$ the gradient / Jacobian $\\nabla f$ points up the hill along the steepest direction\n",
    "- its length is proportional to the steepness.\n",
    "\n",
    "*Proof*<br>\n",
    "In case of a univariate function $f:\\mathbb{R} \\to \\mathbb{R}$, in the proximity of a chosen point $x$, i.e. in $x+\\Delta x$, the best linear approximation of the function $f$ is given by\n",
    "\n",
    "$$f(x+\\Delta x) \\simeq f(x) + f'(x) \\Delta x $$\n",
    "\n",
    "Therefore the total change of the function $f(x + \\Delta x) - f(x)$ can be approximated by $f'(x) \\Delta x$.\n",
    "\n",
    "Similarly in case of a multivariate function $f: \\mathbb{R}^n \\to \\mathbb{R}$ the total change around a point $x$ can be approximated by $\\langle \\nabla f(x),\\Delta x\\rangle = \\nabla f(x) \\cdot \\Delta x$, where $\\Delta x$ is an element of the tangent space of the surface at the point $x$ expressed w.r.t. the basis $\\displaystyle\\frac{\\partial f(x)}{\\partial x_1}, \\frac{\\partial f(x)}{\\partial x_2}, \\ldots, \\frac{\\partial f(x)}{\\partial x_n}$. Its components $\\Delta x_1, \\Delta x_2, \\ldots, \\Delta x_n$ are called the increments.\n",
    "\n",
    "Let us recall that\n",
    "\n",
    "$$\\nabla f(x) \\cdot \\Delta x = ||\\nabla f(x)|| \\cdot ||\\Delta x|| \\cdot \\cos(\\theta),$$\n",
    "\n",
    "where $\\theta$ is the angle of the vectors $\\nabla f(x)$ and $\\Delta x$.\n",
    "\n",
    "The function is the steepest in the direction for which the total change of the function is maximal. Therefore we would like to determine the unit-length vector $\\Delta x$ for which $\\nabla f(x) \\cdot \\Delta x$ is maximal. By the previous formula this will be achieved when $\\cos(\\theta) = 1 \\Leftrightarrow \\theta = 0$, i.e. $\\Delta x$ is the unit vector pointing into the same direction as $\\nabla f(x)$, namely\n",
    "\n",
    "$$ \\Delta x = \\frac{\\nabla f(x)^T}{||\\nabla f(x)||}$$  \n",
    "\n",
    "By this we have shown that the Jacobian $\\nabla f(x)$ is pointing towards the steepest direction.\n",
    "\n",
    "Furthermore,\n",
    "$$\\begin{align*}\n",
    "&f(x+\\Delta x) - f(x) \\simeq \\nabla f(x) \\cdot \\Delta x\\\\[0.5em]\n",
    "&\\max_{||\\Delta x|| = 1} \\nabla f(x) \\cdot \\Delta x = \\nabla f(x) \\cdot \\frac{\\nabla f(x)^T}{||\\nabla f(x)||} = \\frac{||\\nabla f(x)||^2}{||\\nabla f(x)||} = ||\\nabla f(x)||\n",
    "\\end{align*}$$\n",
    "\n",
    "which shows that its length is proportional to the steepness and as the total change in this direction is positive, it is pointing up the hill."
   ]
  },
  {
   "cell_type": "markdown",
   "metadata": {
    "id": "Gdq32uWRfY_z"
   },
   "source": [
    "**Remark**<br>\n",
    "The contour lines are such lines, where the value of the function stays constant. Most probably you have seen contour lines of peaks or of the sea on maps.\n",
    "\n",
    "In the below animation you can move from one contour line to another by changing the value of $z$ on the slider and you can also move the point $A$ on the active contour line. What do you observe? What is the relation between the contour lines and the Jacobian / gradient?\n"
   ]
  },
  {
   "cell_type": "code",
   "execution_count": null,
   "metadata": {
    "colab": {
     "base_uri": "https://localhost:8080/",
     "height": 841
    },
    "id": "jb5_2yGWfY_z",
    "outputId": "de45c553-67b1-4f96-b161-c31276775b11",
    "scrolled": false
   },
   "outputs": [],
   "source": [
    "IFrame(\"https://www.geogebra.org/classic/atrvy2e9\", 1000, 800)"
   ]
  },
  {
   "cell_type": "markdown",
   "metadata": {
    "id": "FDTD3N7xfY_z"
   },
   "source": [
    "The Jacobian vector is ................................. the contour lines.\n",
    "\n",
    "To prove this also formally consider the following setting. Let $f: \\mathbb{R^n} \\to \\mathbb{R}$ be a function, defining an $n$-dimensional surface in $\\mathbb{R}^{n+1}$. And let $c:t \\to \\left(\n",
    "\\begin{array}{c}\n",
    "c_1(t)\\\\\n",
    "c_2(t)\\\\\n",
    "\\vdots\\\\\n",
    "c_n(t)\n",
    "\\end{array}\n",
    "\\right)$ be a curve in the parameterspace of $f$ such that the curve $f(c(t))$ is a contourline, i.e. $f(c(t)) = k$ for some constant $k \\in \\mathbb{R}$.\n",
    "\n",
    "The above property follows by differentiating the $f(c(t)) = k$ equality w.r.t. the variable $t$. By the multivariate chain rule we obtain, that\n",
    "\n",
    "$$\\nabla f(c(t)) \\cdot \\nabla c(t) = 0,$$\n",
    "\n",
    "i.e. the Jacobian / gradient of the function $f$ is perpendicular to the tangent to the contour line."
   ]
  },
  {
   "cell_type": "markdown",
   "metadata": {
    "id": "FA7DFyvPfY_z"
   },
   "source": [
    "### 3.3.2. The Newton-Raphson method\n",
    "\n",
    "The Newton-Raphson method is used to find the approximate root of a function.\n",
    "\n",
    "Observe how does it work and identify the steps of the method."
   ]
  },
  {
   "cell_type": "code",
   "execution_count": null,
   "metadata": {
    "colab": {
     "base_uri": "https://localhost:8080/",
     "height": 941
    },
    "id": "2RaL7jV_fY_z",
    "outputId": "2443c4a7-32ee-4d85-bd8f-0ed647a448e1",
    "scrolled": false
   },
   "outputs": [],
   "source": [
    "IFrame(\"https://www.geogebra.org/classic/mm9xvyxr\", 1200, 900)"
   ]
  },
  {
   "cell_type": "markdown",
   "metadata": {
    "id": "_H6LC-oqfY_0"
   },
   "source": [
    "The Newton-Raphson method is an iterative method.\n",
    "\n",
    "We cosider a function $f:\\mathbb{R} \\to \\mathbb{R}$.\n",
    "    \n",
    "The purpose of this method is to approximate roots of the function, i.e. such $x$ values for which $f(x) = 0$.\n",
    "\n",
    "Let us assume that we know the value of the function in a point $x^{(0)}$, i.e we know $f\\left(x^{(0)}\\right)$. We approximate the behaviour of the function by the tangent line\n",
    "\n",
    "$$f(x) \\simeq l(x) = f\\left(x^{(0)}\\right) + f'\\left(x^{(0)}\\right)\\cdot (x-x^{(0)})$$\n",
    "\n",
    "and we solve the equation\n",
    "\n",
    "$$l(x) = 0$$\n",
    "\n",
    "The solution of this will be denoted by $x^{(1)}$ and by solving the above linear equation we obtain that\n",
    "\n",
    "$$x^{(1)} = x^{(0)} -  \\frac{f\\left(x^{(0)}\\right)}{f'\\left(x^{(0)}\\right)}$$\n",
    "\n",
    "$x^{(1)}$ is our second approximation for a root of $f$.\n",
    "\n",
    "If we continue the process now by constructing the tangent line in $x^{(1)}$ and defining the next point as an intersection of the tangent with the $x$-axis, then\n",
    "\n",
    "$$x^{(2)} = x^{(1)} - \\frac{f\\left(x^{(1)}\\right)}{f'\\left(x^{(1)}\\right)}$$\n",
    "\n",
    "will be our third approximation for the root.\n",
    "\n",
    "If the function is nice enough, then this method converges to a root of the function.\n",
    "\n",
    "**Remark:**\n",
    "\n",
    "The method can be generalised for functions of type $f: \\mathbb{R}^n \\to \\mathbb{R}^n$. In this setting we start by choosing an $x^{(0)}$ and the next values of the sequence that we construct can be determined according to the following recursive formula:\n",
    "\n",
    "$$x^{(n+1)} = x^{(n)} - \\left(\\nabla f\\left(x^{(n)}\\right)\\right)^{-1} \\cdot f\\left(x^{(n)}\\right) .$$"
   ]
  },
  {
   "cell_type": "markdown",
   "metadata": {
    "id": "x5Jb2nlxfY_0"
   },
   "source": [
    "----------------\n",
    "\n",
    "**Exercise**\n",
    "\n",
    "1. Complete the d_f function in the code block with $f′(x)$. The code block will then perform iterations of the Newton-Raphson method. What is the $x$ value of the root near $x=−4$ (to 3 decimal places)?"
   ]
  },
  {
   "cell_type": "code",
   "execution_count": null,
   "metadata": {
    "colab": {
     "base_uri": "https://localhost:8080/",
     "height": 707
    },
    "id": "12CKozMefY_0",
    "outputId": "6b8bcc2b-3336-4ec6-b6a1-66d2204dfd75",
    "scrolled": false
   },
   "outputs": [],
   "source": [
    "import pandas as pd\n",
    "\n",
    "def f (x) :\n",
    "  return x**6/6 - 3*x**4 - 2*x**3/3 + 27*x**2/2 + 18*x - 30\n",
    "\n",
    "def d_f (x) :\n",
    "  return x**5 - 12*x**3 - 2*x**2 + 27*x + 18 # Complete this line with the derivative you have calculated.\n",
    "  # return x**5 - 12*x**3 - 2*x**2 + 27*x + 18\n",
    "\n",
    "x = 3.1\n",
    "\n",
    "d = {\"x\" : [x], \"f(x)\": [f(x)]}\n",
    "for i in range(0, 20):\n",
    "  x = x - f(x) / d_f(x)\n",
    "  d[\"x\"].append(x)\n",
    "  d[\"f(x)\"].append(f(x))\n",
    "\n",
    "pd.DataFrame(d, columns=['x', 'f(x)'])"
   ]
  },
  {
   "cell_type": "markdown",
   "metadata": {
    "id": "eiAqYAGDfY_1"
   },
   "source": [
    "2.\n",
    "Some starting points on the curve do not converge, nor do they diverge, but oscillate without settling. Try $x_0=3.1$ as a starting point; it does just this.\n",
    "\n",
    "This is the behaviour that happens in areas where the curve is not well described by a straight line - therefore our initial linearisation assumption was not a good one for such a starting point.\n",
    "\n",
    "In practice, often you will not need to hand craft optimisation methods, as they can be called from libraries, such as scipy. Use the code block below to test $x_0=3.1$."
   ]
  },
  {
   "cell_type": "code",
   "execution_count": null,
   "metadata": {
    "code_folding": [],
    "colab": {
     "base_uri": "https://localhost:8080/"
    },
    "id": "IJEtZ_asfY_1",
    "outputId": "b474d4b2-e113-4a5d-a119-3ded97aee370"
   },
   "outputs": [],
   "source": [
    "from scipy import optimize\n",
    "\n",
    "def f (x) :\n",
    "  return x**6/6 - 3*x**4 - 2*x**3/3 + 27*x**2/2 + 18*x - 30\n",
    "\n",
    "x0 = 3.1\n",
    "x = optimize.newton(f, x0)\n",
    "\n",
    "print(x)\n",
    "print(f(x))"
   ]
  },
  {
   "cell_type": "markdown",
   "metadata": {
    "id": "mPHKKzJofY_1"
   },
   "source": [
    "### 3.3.3. Gradient descent method\n",
    "\n",
    "The gradient descent method is similar to the Newton-Raphson one in the sense that we perform an iterative step in the steepest direction. The difference is that the goal of this process is to minimise a cost function $C: \\mathbb{R} \\to \\mathbb{R}$ (or $C: \\mathbb{R}^n \\to \\mathbb{R}$ in the multivariate case). We update the gradient in every iterative step and we move along the steepest gradient downwards, i.e.\n",
    "\n",
    "$$x^{(k+1)} = x^{(k)} - \\lambda \\nabla f\\left(x^{(k)}\\right).$$\n",
    "\n",
    "The parameter $\\lambda$ from the above formula is called the **step size** or the **learning rate** of the gradient descent algorithm.\n",
    "\n",
    "To learn about the different types of gradient descent used in a machine learning context please visit [this link](https://towardsdatascience.com/batch-mini-batch-stochastic-gradient-descent-7a62ecba642a).\n"
   ]
  },
  {
   "cell_type": "code",
   "execution_count": null,
   "metadata": {
    "colab": {
     "base_uri": "https://localhost:8080/",
     "height": 941
    },
    "id": "NcDAXqtgfY_7",
    "outputId": "ad662e70-9cc3-4b09-b83b-16f44166e432",
    "scrolled": false
   },
   "outputs": [],
   "source": [
    "IFrame(\"https://www.geogebra.org/classic/xfa7y3wc\", 1100, 900)"
   ]
  },
  {
   "cell_type": "markdown",
   "metadata": {
    "id": "L1RWk2mafY_7"
   },
   "source": [
    "--------------------\n",
    "\n",
    "### 3.3.4. Newton's method for finding the minimum of a function\n",
    "\n",
    "**Remark**\n",
    "\n",
    "To present Newton's method I invite you first to formulate a valuable observation, that the extrema should satisfy in case of a differentiable function.\n",
    "\n",
    "Experiment with the below GeoGebra applet to formulate some conclusion for the first derivative and the gradient of a function in its extreme points, respectively. Move the white point along the graph of the function. What do you observe?"
   ]
  },
  {
   "cell_type": "code",
   "execution_count": null,
   "metadata": {
    "colab": {
     "base_uri": "https://localhost:8080/",
     "height": 921
    },
    "id": "TgPn21SPfY_7",
    "outputId": "a3d6d8db-f896-4d77-a176-1ce9557599b6",
    "scrolled": false
   },
   "outputs": [],
   "source": [
    "IFrame(\"https://www.geogebra.org/classic/g9stbrgd\", 900, 900)"
   ]
  },
  {
   "cell_type": "markdown",
   "metadata": {
    "id": "cFZu2W2zfY_7"
   },
   "source": [
    "Now we know that for nice enough functions, the minimum of a function is reached in a stationary point, i.e. where the first derivative (or gradient for multivariate functions) of the function is $0$. We can use the Newton-Raphson method described in point 3.3.3 to find the stationary points of the function, i.e. the roots of the derivative function. The points that are found by this method are potential candidates also for minimum points.\n",
    "\n",
    "In the original Newton-Raphson method the first derivative of the function is involved. If we apply it for finding the roots of the derivative function $f'$ the iterative step looks in the following way:\n",
    "\n",
    "$$x^{(k+1)} = x^{(k)} - \\frac{f'\\left(x^{(k)}\\right)}{f''\\left(x^{(k)}\\right)}$$\n",
    "\n",
    "**Remark:**\n",
    "\n",
    "1. Observe that Newton's method is depending also on the second order derivative of the function $f$ and the gradient descent just of the first order derivative, this is the explanation why Newton's method performs better when $x^{(0)}$ is close to the minimum point and $f''(x)>0$ for all $x \\in \\mathbb{R}$. However, the Newton method may perform worse if $f''(x)$ can be also negative in some points.\n",
    "\n",
    "2. Newton's method can be generalised for multivariate functions $f: \\mathbb{R}^n \\to \\mathbb{R}$. After a starting value $x^{(0)}$ is selected, the next elements of the approximating sequence can be calculated by the formula\n",
    "\n",
    "\n",
    "$$x^{(k+1)} = x^{(k)} - \\left(\\nabla^2 f\\left(x^{(k)}\\right)\\right)^{-1} \\cdot \\nabla f\\left(x^{(k)}\\right) .$$\n",
    "\n",
    "3. **Newton's method to carry out non-linear mean square minimisation.** We have observed the data points $\\{(x_1,y_1), (x_2, y_2), \\ldots, (x_n, y_n)\\}$. We plot them and we see, that for example the sinusoidal function (or the square root function or whatever non-linear function) would fit them the best. Let us denote an element of the family of functions that we would like to fit to our data by $f(\\cdot,\\beta): \\mathbb{R}^n \\to \\mathbb{R}$, where the parameter(s) $\\beta$ should be determined in such a way to minimise the total least square error of the approximation, i.e.\n",
    "\n",
    "$$L(\\beta) = \\sum_{i=1}^m \\underbrace{\\left(y_i - f(x_i, \\beta)\\right)^2}_{r_i^2(\\beta)} \\to \\min \\quad \\mbox{w.r.t. } \\beta$$\n",
    "\n",
    "To determine the minimum of the above error function we use Newton's method\n",
    "\n",
    "$$\\beta^{(k+1)} = \\beta^{(k)} - \\left(\\nabla^2 L\\left(\\beta^{(k)}\\right)\\right)^{-1} \\cdot \\nabla L\\left(\\beta^{(k)}\\right)$$\n",
    "\n",
    "The Jacobian and the Hessian of the error function $L$ are the following:\n",
    "\\begin{align*}\n",
    "\\nabla L(\\beta) = 2 \\left(\\nabla r(\\beta)\\right)^T \\cdot r(\\beta)\\\\[0.5em]\n",
    "\\nabla^2L(\\beta) =  2 \\left(\\left(\\nabla r(\\beta)\\right)^T \\nabla r(\\beta) + S(\\beta)\\right),\n",
    "\\end{align*}\n",
    "where $S(\\beta)$ is an $\\displaystyle n \\times n$ matrix with the $\\sum_{i = 1}^m r_i(\\beta)\\cdot \\frac{\\partial^2 r_i (\\beta)}{\\partial \\beta_i \\partial \\beta_j}$ element on the $(k,j)$ position and $\\nabla r$ is the Jacobian of the function $r = \\left(\\begin{array}{c}\n",
    "r_1\\\\\n",
    "r_2\\\\\n",
    "\\vdots\\\\\n",
    "r_m\n",
    "\\end{array}\\right)$.\n",
    "\n",
    "In practice $S(\\beta)$ is left away and thus we obtain the following recursive formula for approximating the optimal parameter value(s) $\\beta$\n",
    "\n",
    "$$\\beta^{(k+1)} = \\beta^{(k)} - \\big(\\left(\\nabla r\\left(\\beta^{(k)}\\right)\\right)^T \\nabla r\\left(\\beta^{(k)}\\right)\\big)^{-1} \\cdot \\left(\\nabla r\\left(\\beta^{(k)}\\right)\\right)^T \\cdot r\\left(\\beta^{(k)}\\right)$$\n",
    "\n",
    "If we carry out the approximation process by the above formula, this method is called the Newton-Gauss method.\n",
    "\n",
    "4. It can happen, that in the Newton-Gauss method the $\\left(\\nabla r\\left(\\beta^{(k)}\\right)\\right)^T \\nabla r\\left(\\beta^{(k)}\\right)$ matrix is not positive definite. This problem can be overcome using a Levenberg-Marquardt modification:  \n",
    "\n",
    "$$\\beta^{(k+1)} = \\beta^{(k)} - \\big(\\left(\\nabla r\\left(\\beta^{(k)}\\right)\\right)^T \\nabla r\\left(\\beta^{(k)}\\right)+\\mu_k I \\big)^{-1} \\cdot \\left(\\nabla r\\left(\\beta^{(k)}\\right)\\right)^T \\cdot r\\left(\\beta^{(k)}\\right)$$\n",
    "\n",
    "-----------------------"
   ]
  },
  {
   "cell_type": "markdown",
   "metadata": {
    "id": "LBLtGCh5fY_8"
   },
   "source": [
    "\n",
    "### 3.3.5. Backpropagation\n",
    "\n",
    "To perform the gradient descent method, we need to calculate the Jacobian of the cost function w.r.t. all the parameters of the model. As we have seen in the introduction, a neural network can be very complex, but here as a starting point for backpropagation let us consider the following simple network\n",
    "\n",
    "<center>\n",
    "<img src=\"https://github.com/KingaS03/Mathematics-for-Machine-Learning-and-Data-Science/blob/master/Images/Network4Backpropagation1.png?raw=1\" width=\"400\">\n",
    "</center>\n",
    "\n",
    "Let us assume that the cost function is the squared error\n",
    "\n",
    "$$C = (y^{(1)} - y)^2$$\n",
    "\n",
    "and let us assume that we have just one training example.\n",
    "\n",
    "By backpropagation is meant nothing else but the multiple application of the chain rule targeted towards the calculation of the Jacobian of $C$ w.r.t. the model parameters $w^{(1)}$, respectively $b^{(1)}$. Let us write down what leads us from the input values $y^{(0)} = x$ all the way to the cost function $C$:\n",
    "\n",
    "$$\n",
    "\\begin{align*}\n",
    "&z^{(1)} = b^{(1)} + w^{(1)}y^{(0)}\\\\\n",
    "\\\\\n",
    "&y^{(1)} = g\\left(z^{(1)}\\right)\\\\\n",
    "\\\\\n",
    "&C = \\left(y^{(1)} - y\\right)^2\n",
    "\\end{align*}\n",
    "$$\n",
    "\n",
    "From the above the following formula folds out automatically\n",
    "\n",
    "$$\\mathbf{\\frac{\\partial C}{\\partial w^{(1)}}} = \\frac{\\partial C}{\\partial y^{(1)}} \\cdot \\frac{\\partial y^{(1)}}{\\partial w^{(1)}} = \\mathbf{\\frac{\\partial C}{\\partial y^{(1)}} \\cdot \\frac{\\partial y^{(1)}}{\\partial z^{(1)}} \\cdot \\frac{\\partial z^{(1)}}{\\partial w^{(1)}}}$$\n",
    "\n",
    "We obtain similarly that\n",
    "\n",
    "$$\\frac{\\partial C}{\\partial b^{(1)}} = \\frac{\\partial C}{\\partial y^{(1)}} \\cdot \\frac{\\partial y^{(1)}}{\\partial z^{(1)}} \\cdot \\frac{\\partial z^{(1)}}{\\partial b^{(1)}}$$\n",
    "\n",
    "-----\n",
    "**Remark**<br>\n",
    "For a given activation function $g$ in the above formulae we can calculate every Jacobian\n",
    "\n",
    "$$\\begin{align*}\n",
    "\\frac{\\partial C}{\\partial y^{(1)}} = 2 \\left(y^{(1)} - y\\right) \\quad \\quad\n",
    "\\frac{\\partial y^{(1)}}{\\partial z^{(1)}} = g'\\left(z^{(1)}\\right) \\quad \\quad\n",
    "\\frac{\\partial z^{(1)}}{\\partial w^{(1)}} = y^{(0)} \\quad \\quad\n",
    "\\frac{\\partial z^{(1)}}{\\partial b^{(1)}} = 1\n",
    "\\end{align*}$$\n",
    "\n",
    "-----\n",
    "\n",
    "Let us consider the setting of the below more complex neural network\n",
    "\n",
    "\n",
    "<center>\n",
    "<img src=\"https://github.com/KingaS03/Mathematics-for-Machine-Learning-and-Data-Science/blob/master/Images/Network4Backpropagation2c.png?raw=1\" width=\"400\">\n",
    "</center>\n",
    "\n",
    "For this setting the formulae leading from the input to the output can be summarised similarly in matrix form\n",
    "\n",
    "$$\n",
    "\\begin{align*}\n",
    "&z^{(1)} = b^{(1)} + w^{(1)}y^{(0)}\\\\\n",
    "\\\\\n",
    "&y^{(1)} = g_1\\left(z^{(1)}\\right)\\\\\n",
    "\\\\\n",
    "&C = ||y^{(1)} - y||^2 = (y^{(1)}_1 - y_1)^2 + (y^{(1)}_2 - y_2)^2 + (y^{(1)}_3 - y_3)^2 = (y^{(1)}-y)^T \\cdot (y^{(1)}-y),\n",
    "\\end{align*}\n",
    "$$\n",
    "\n",
    "where\n",
    "\n",
    "$$\n",
    "\\begin{align*}\n",
    "y^{(0)} = \\left(\n",
    "\\begin{array}{c}\n",
    "x_1\\\\\n",
    "x_2\\\\\n",
    "\\vdots\\\\\n",
    "x_d\n",
    "\\end{array}\n",
    "\\right), \\quad\n",
    "w^{(1)} = \\left(\n",
    "\\begin{array}{cccc}\n",
    "w_{1,1}^{(1)} & w_{1,2}^{(1)} & \\ldots & w_{1,d}^{(1)}\\\\\n",
    "w_{2,1}^{(1)} & w_{2,2}^{(1)} & \\ldots & w_{2,d}^{(1)}\\\\\n",
    "w_{3,1}^{(1)} & w_{3,2}^{(1)} & \\ldots & w_{3,d}^{(1)}\n",
    "\\end{array}\n",
    "\\right), \\quad\n",
    "b^{(1)} = \\left(\n",
    "\\begin{array}{c}\n",
    "b_1^{(1)}\\\\\n",
    "b_2^{(1)}\\\\\n",
    "b_3^{(1)}\n",
    "\\end{array}\n",
    "\\right), \\quad\n",
    "z^{(1)} = \\left(\n",
    "\\begin{array}{c}\n",
    "z_1^{(1)}\\\\\n",
    "z_2^{(1)}\\\\\n",
    "z_3^{(1)}\n",
    "\\end{array}\n",
    "\\right), \\quad\n",
    "y^{(1)} = \\left(\n",
    "\\begin{array}{c}\n",
    "g_1\\left(z_1^{(1)}\\right)\\\\\n",
    "g_1\\left(z_2^{(1)}\\right)\\\\\n",
    "g_1\\left(z_3^{(1)}\\right)\n",
    "\\end{array}\n",
    "\\right), \\quad\n",
    "y = \\left(\n",
    "\\begin{array}{c}\n",
    "y_1\\\\\n",
    "y_2\\\\\n",
    "y_3\n",
    "\\end{array}\n",
    "\\right).\n",
    "\\end{align*}\n",
    "$$\n",
    "\n",
    "As a consequence for this more complex neural network the desired Jacobians can be expressed by similar relations as before, namely\n",
    "\n",
    "$$\n",
    "\\begin{align*}\\frac{\\partial C}{\\partial w^{(1)}} = \\frac{\\partial C}{\\partial y^{(1)}} \\cdot \\frac{\\partial y^{(1)}}{\\partial z^{(1)}} \\cdot \\frac{\\partial z^{(1)}}{\\partial w^{(1)}}\\\\\n",
    "\\frac{\\partial C}{\\partial b^{(1)}} = \\frac{\\partial C}{\\partial y^{(1)}} \\cdot \\frac{\\partial y^{(1)}}{\\partial z^{(1)}} \\cdot \\frac{\\partial z^{(1)}}{\\partial b^{(1)}}\n",
    "\\end{align*}\n",
    "$$\n",
    "\n",
    "-----\n",
    "**Remark**<br>\n",
    "For a given activation function $g$ in the above formulae we can calculate every Jacobian\n",
    "\n",
    "$$\\begin{align*}\n",
    "&\\frac{\\partial C}{\\partial y^{(1)}} = 2 \\left(y^{(1)} - y\\right)^T = 2 \\left(y^{(1)}_1 - y_1, y^{(1)}_2 - y_2, y^{(1)}_3 - y_3 \\right)\\\\\n",
    "\\\\\n",
    "&\\frac{\\partial y^{(1)}}{\\partial z^{(1)}} =\n",
    "\\left(\\begin{array}{ccc}\n",
    "g_1'\\left(z_1^{(1)}\\right) & 0 & 0\\\\\n",
    "0 & g_1'\\left(z_2^{(1)}\\right) & 0\\\\\n",
    "0 & 0 & g_1'\\left(z_3^{(1)}\\right)\n",
    "\\end{array}\n",
    "\\right)\\\\\n",
    "\\\\\n",
    "&\\frac{\\partial z^{(1)}}{\\partial w^{(1)}} =\n",
    "\\left(\n",
    "\\begin{array}{ccc}\n",
    "\\left(y^{(0)}\\right)^T & 0_{1\\times d} & 0_{1 \\times d}\\\\\n",
    "0_{1\\times d} & \\left(y^{(0)}\\right)^T & 0_{1\\times d}\\\\\n",
    "0_{1\\times d} & 0_{1\\times d} & \\left(y^{(0)}\\right)^T\n",
    "\\end{array}\n",
    "\\right)\\\\\n",
    "\\\\\n",
    "&\\frac{\\partial z^{(1)}}{\\partial b^{(1)}} = I_3\n",
    "\\end{align*}$$\n",
    "\n",
    "-----\n",
    "\n",
    "<!--\n",
    "Speed vs time, tangent -> acceleration\n",
    "Is the speed as function the derivative of some other function? Related to the integral, antiderivative. Distance vs time.\n",
    "\n",
    "Geometrical def. of the derivative: \"rise over run\" gradient - for two points on the graph of the function\n",
    "\n",
    "the gradient of the tangent line\n",
    "\n",
    "Formal definition of the derivative with $\\Delta x$, $f$ and $\\lim$.\n",
    "\n",
    "Ex. Calculate the derivative of a linear function.\n",
    "Ex. Calculate the derivative of a parabolic function / polynom of grade 2.\n",
    "\n",
    "Sum rule, power rule.\n",
    "\n",
    "Special functions and their derivatives: 1/x, e^x (the only function being equal to its derivative),\n",
    "\n",
    "Product rule. Quotient rule can be derived also from the product rule and whenever the quotient rule should be used, one can use equivalently the product rule as well.\n",
    "\n",
    "## Chain law / rule\n",
    "\n",
    "## Multivariate differentiation\n",
    "dependent and independent variables, how do we select them? speed can be depicted as the function of time, but not the other way around.\n",
    "\n",
    "partial differentiation - fix all the variables except one constant and calc. the derivative w.r.t. the remaining variable\n",
    "\n",
    "Chain rule for the multivariate setup.\n",
    "\n",
    "## The Jacobian\n",
    "The Jacobian vector of a mutivariate function. - the vector pointing to the steepest slope. Contour lines with Jacobian directions.\n",
    "\n",
    "The Jacobian for vector valued functions.\n",
    "\n",
    "## Looking for extremal values of a function.\n",
    "Context: y = f(x), z = f(x,y)\n",
    "\n",
    "Sandpit. Find the deepest point by Jacobians, by the depth of the pit.\n",
    "\n",
    "## The Hessian - the Jacobian of the Jacobian\n",
    "Hessian - shows whether the found stationary point is a min or max point.\n",
    "\n",
    "## In reality we don't know the function\n",
    "We estimate also the Jacobians. What should be the stepsize? We calculate the approx. of the Jac. for different step sizes and we average out.-->\n",
    "\n",
    "<!--## Total derivative\n",
    "When our function depends on n variables and the variables depend on the same parameter t.\n",
    "$$\\frac{{\\rm d}f}{{\\rm d}t} = \\frac{\\partial f}{\\partial x} \\cdot \\frac{{\\rm d} x}{{\\rm d} t} = J_f \\frac{{\\rm d} x}{{\\rm d} t}$$-->"
   ]
  },
  {
   "cell_type": "markdown",
   "metadata": {
    "id": "F_ODOsWafY_8"
   },
   "source": [
    "**Exercise - Potential challenges when applying the gradient descent method**\n",
    "\n",
    "1. For which starting points will the gradient descent method lead us to the phone on the below surface?\n",
    "\n",
    "<center>\n",
    "<img src=\"https://github.com/KingaS03/Mathematics-for-Machine-Learning-and-Data-Science/blob/master/Images/Sandpit1.png?raw=1\" width=\"350\">\n",
    "</center>"
   ]
  },
  {
   "cell_type": "code",
   "execution_count": null,
   "metadata": {
    "id": "VApl0usmXR02"
   },
   "outputs": [],
   "source": [
    "!git clone \"https://github.com/KingaS03/Mathematics-for-Machine-Learning-and-Data-Science.git\""
   ]
  },
  {
   "cell_type": "code",
   "execution_count": null,
   "metadata": {
    "colab": {
     "base_uri": "https://localhost:8080/"
    },
    "id": "3vGkaNm_Xf2b",
    "outputId": "ba263c3a-7c3b-47eb-a196-3777ae423fca"
   },
   "outputs": [],
   "source": [
    "%cd Mathematics-for-Machine-Learning-and-Data-Science"
   ]
  },
  {
   "cell_type": "code",
   "execution_count": null,
   "metadata": {
    "id": "D70A_qa-fY_8"
   },
   "outputs": [],
   "source": [
    "%run \"questions/questions3_1.py\""
   ]
  },
  {
   "cell_type": "markdown",
   "metadata": {
    "id": "aAmD1SJqfY_9"
   },
   "source": [
    "2. For which starting points will the gradient descent method lead us to the phone on the below surface?\n",
    "\n",
    "<center>\n",
    "<img src=\"https://github.com/KingaS03/Mathematics-for-Machine-Learning-and-Data-Science/blob/master/Images/Sandpit2.png?raw=1\" width=\"350\">\n",
    "</center>"
   ]
  },
  {
   "cell_type": "code",
   "execution_count": null,
   "metadata": {
    "id": "xkqMiI5QfY_9"
   },
   "outputs": [],
   "source": [
    "%run \"questions/questions3_2.py\""
   ]
  },
  {
   "cell_type": "markdown",
   "metadata": {
    "id": "Hjx5pfTPfY_9"
   },
   "source": [
    "3. For which starting points will the gradient descent method lead us to the phone on the below surface?\n",
    "\n",
    "<center>\n",
    "<img src=\"https://github.com/KingaS03/Mathematics-for-Machine-Learning-and-Data-Science/blob/master/Images/Sandpit3.png?raw=1\" width=\"350\">\n",
    "</center>"
   ]
  },
  {
   "cell_type": "code",
   "execution_count": null,
   "metadata": {
    "id": "Ngkn7XQQfY_9"
   },
   "outputs": [],
   "source": [
    "%run \"questions/questions3_3.py\""
   ]
  },
  {
   "cell_type": "markdown",
   "metadata": {
    "id": "OoLMYccwfY_9"
   },
   "source": [
    "4. For which starting points will the gradient descent method lead us to the phone on the below surface?\n",
    "\n",
    "<center>\n",
    "<img src=\"https://github.com/KingaS03/Mathematics-for-Machine-Learning-and-Data-Science/blob/master/Images/Sandpit4.png?raw=1\" width=\"350\">\n",
    "</center>"
   ]
  },
  {
   "cell_type": "code",
   "execution_count": null,
   "metadata": {
    "id": "lvlJ76vqfY_9"
   },
   "outputs": [],
   "source": [
    "%run \"questions/questions3_4.py\""
   ]
  },
  {
   "cell_type": "markdown",
   "metadata": {
    "id": "MI5pK2c8fY_-"
   },
   "source": [
    "5. Can you imagine a surface where the gradient descent algorithm gets stuck?\n",
    "\n",
    "6. Can you imagine such a surface with two starting points very close to each other, which lead to totally different local extrema?"
   ]
  },
  {
   "cell_type": "markdown",
   "metadata": {
    "id": "a8G8xZMzfY_-"
   },
   "source": [
    "---------------\n",
    "\n",
    "**Exercise**\n",
    "\n",
    "Discuss the [gradient descent types used in a machine learning context](https://towardsdatascience.com/batch-mini-batch-stochastic-gradient-descent-7a62ecba642a) with your team, collect the major characteristics of the one allocated to your team.\n",
    "\n",
    "---------------"
   ]
  },
  {
   "cell_type": "markdown",
   "metadata": {
    "id": "jrfUvMyxfY_-"
   },
   "source": [
    "## 3.4 Activation functions\n",
    "\n",
    "----------\n",
    "\n",
    "For the hidden layers of a neural network we typically use the same activation function. Some of the most popular activation functions are:\n",
    "<p style=\"margin-bottom:0.5cm;\"> - the rectified linear unit: $\\quad f(x) = \\max(0, x)$ </p>\n",
    "\n",
    "<p style=\"margin-bottom:0.5cm;\"> - the sigmoid: $\\quad \\displaystyle f(x) = \\frac{1}{1+e^{-x}}$ </p>\n",
    "\n",
    "<p style=\"margin-bottom:0.5cm;\"> - the tanh: $\\quad \\displaystyle  f(x) = \\frac{e^x – e^{-x}}{e^x + e^{-x}}$ </p>\n",
    "\n",
    "With the below code you can plot them."
   ]
  },
  {
   "cell_type": "code",
   "execution_count": null,
   "metadata": {
    "colab": {
     "base_uri": "https://localhost:8080/",
     "height": 453
    },
    "id": "3kweaEmzfY_-",
    "outputId": "3fbaa25c-ba7c-47fe-f21d-8be23f2e593b"
   },
   "outputs": [],
   "source": [
    "from matplotlib import pyplot as plt\n",
    "import numpy as np\n",
    "\n",
    "# rectified linear function\n",
    "def rectified(x):\n",
    "\treturn max(0.0, x)\n",
    "\n",
    "# define input data\n",
    "inputs1 = np.linspace(-10, 10, num=50) #[x for x in range(-10, 10)]\n",
    "# calculate outputs\n",
    "outputs1 = [rectified(x) for x in inputs1]\n",
    "# plot inputs vs outputs\n",
    "#plt.plot(inputs1, outputs1)\n",
    "#plt.show()\n",
    "\n",
    "# sigmoid activation function\n",
    "def sigmoid(x):\n",
    "\treturn 1.0 / (1.0 + np.exp(-x))\n",
    "\n",
    "# define input data\n",
    "inputs2 = np.linspace(-10, 10, num=50) #[x for x in range(-10, 10)]\n",
    "# calculate outputs\n",
    "outputs2 = [sigmoid(x) for x in inputs2]\n",
    "# plot inputs vs outputs\n",
    "#plt.plot(inputs2, outputs2)\n",
    "#plt.show()\n",
    "\n",
    "# tanh activation function\n",
    "def tanh(x):\n",
    "\treturn (np.exp(x) - np.exp(-x)) / (np.exp(x) + np.exp(-x))\n",
    "\n",
    "# define input data\n",
    "inputs3 = np.linspace(-10, 10, num=50) #[x for x in range(-10, 10)]\n",
    "# calculate outputs\n",
    "outputs3 = [tanh(x) for x in inputs3]\n",
    "# plot inputs vs outputs\n",
    "#plt.plot(inputs3, outputs3)\n",
    "#plt.show()\n",
    "\n",
    "fig, axs = plt.subplots(1,3, figsize=(9,5))\n",
    "axs[0].plot(inputs1, outputs1)\n",
    "axs[0].set_title('ReLU')\n",
    "axs[1].plot(inputs2, outputs2)\n",
    "axs[1].set_title('Sigmoid')\n",
    "axs[2].plot(inputs3, outputs3)\n",
    "axs[2].set_title('tanh')\n",
    "fig.tight_layout(pad=3.0)"
   ]
  },
  {
   "cell_type": "markdown",
   "metadata": {
    "id": "_ui1LSxjfY__"
   },
   "source": [
    "The type of the activation function used for the output layer depends on the type of the problem we want to solve.\n",
    "Yes, the initial point you've raised is indeed correct. The type of activation function utilised in the output layer of a neural network significantly depends on the nature of the problem being addressed. Here's an elucidation of the points and the rationale behind their accuracy:\n",
    "\n",
    "1. **Predicting a Numerical Variable**:\n",
    "   - **Linear Activation Function**: For regression tasks where the objective is to predict a continuous numerical value, a linear activation function (or no activation function) is typically employed in the output layer. This approach is suitable because the linear function permits the output to assume any value, aligning with the requirements of regression targets.\n",
    "\n",
    "2. **Classification Problem**:\n",
    "   - **Two Mutually Exclusive Classes**: For binary classification tasks, the sigmoid activation function is apt for the output layer. This function compresses the output between 0 and 1, making it interpretable as a probability of belonging to the positive class.\n",
    "   \n",
    "   - **Three or More Mutually Exclusive Classes**: For multi-class classification tasks (where each instance can only be categorised into one out of three or more options), the softmax activation function is utilised. The softmax function generalises the sigmoid by compressing the outputs for each class into a probability distribution across the classes, making it ideal for single-label multi-class classification.\n",
    "   \n",
    "   - **$n$ Potentially Mutually Inclusive Classes**: When the classes are not mutually exclusive (e.g., in multi-label classification), the sigmoid activation function can be applied to each output neuron. Each output can thus be interpreted as the probability of each class independently of the others.\n",
    "\n",
    "This detailed approach to selecting activation functions ensures that the output layer is appropriately tailored to the specific requirements of the predictive modelling task, whether it be regression, binary classification, multi-class classification, or multi-label classification.\n",
    "\n",
    "Each type of activation function plays a pivotal role:\n",
    "- **Linear** for unbounded continuous output,\n",
    "- **Sigmoid** for binary outcomes or probabilities,\n",
    "- **Softmax** for exclusive categorical outcomes where one result is correct.\n",
    "\n",
    "<!--\n",
    "<center>\n",
    "<img src=\"Images/ChoiceOfOutputActFc.png\" width=\"600\">\n",
    "</center>-->\n",
    "\n",
    "The softmax activation function $g: \\mathbb{R}^n \\to [0,1]^n$ is defined by\n",
    "$$g: \\left(\n",
    "\\begin{array}{c}\n",
    "x_1\\\\\n",
    "x_2\\\\\n",
    "\\vdots\\\\\n",
    "x_n\n",
    "\\end{array}\\right) \\mapsto \\left(\n",
    "\\begin{array}{c}\n",
    "\\frac{e^{x_1}}{e^{x_1} + e^{x_2} + \\cdots + e^{x_n}}\\\\\n",
    "\\frac{e^{x_2}}{e^{x_1} + e^{x_2} + \\cdots + e^{x_n}}\\\\\n",
    "\\vdots\\\\\n",
    "\\frac{e^{x_n}}{e^{x_1} + e^{x_2} + \\cdots + e^{x_n}}\n",
    "\\end{array}\\right)$$\n",
    "\n",
    "Observe that all the components of the output of $g$ are strictly positive and they sum up to $1$, so they can be interpreted as probabilities of membership of $n$ classes.\n",
    "\n",
    "To a more detailed description about how to choose the activation functions for the hidden layers and for the output layer please visit [this site](https://machinelearningmastery.com/choose-an-activation-function-for-deep-learning/).\n",
    "\n"
   ]
  },
  {
   "cell_type": "markdown",
   "metadata": {
    "id": "Jknnc0LNfY__"
   },
   "source": [
    "## 3.5 The method of Lagrange multipliers\n",
    "\n",
    "--------------\n",
    "\n",
    "Let $f: \\mathbb{R}^n \\to \\mathbb{R}$ and $g: \\mathbb{R}^n \\to \\mathbb{R}$ be two functions.\n",
    "\n",
    "**Goal:** Minimise the value $f(x)$ under the constraint $g(x) = 0$, i.e.\n",
    "\n",
    "\\begin{align*}\n",
    "\\left\\{\\begin{array}{ll}\n",
    "\\mbox{target function:}& f(x) \\to \\min\\\\\n",
    "\\mbox{constraint:}& g(x) = 0\n",
    "\\end{array}\n",
    "\\right.\n",
    "\\end{align*}"
   ]
  },
  {
   "cell_type": "markdown",
   "metadata": {
    "id": "fdjUBQ2efY__"
   },
   "source": [
    "### 3.5.1 Developing an intuition\n",
    "\n",
    "----------------\n",
    "**Exercise**\n",
    "\n",
    "To derive the general theory of the Lagrange multipliers method, play with the two GeoGebra applets below and find the points for which the function $f$ attains its minimum under the constraint $g = 0$.\n",
    "\n",
    "* In the first applet on the left hand side the formulas of the target function $f$ and of $g$ (describing the constraint) are explicitely provided. The function $f$ is plotted by its concentric contour lines. The set of points satisfying the constraint is a parabola in this case, its graph is plotted in blue. You can move the blue point on the parabola. The contour line, on which the point is situated, is plotted in red and the value of the target function reached on this line is also provided. The current (x_0,y_0)-coordinates of the blue point are indicated in red on the left.\n",
    "\n",
    "The solution of the first constrained optimisation problem: ... <!-- $(x,y) = (-0.5,-2.12)$ and $(0.5, -2.12)$.-->\n",
    "\n",
    "* Figure out how should we use the second app to solve the constrained minimisation problem on the surface given by its contour lines under the constraint given by the blue circle.\n",
    "\n",
    "The solution of the second constrained optimisation problem is: ... <!-- $(x,y) = (0,-3)$, $(-2.82843, 1)$ and $(2.82843, 1)$. -->\n",
    "\n",
    "Do you observe something interesting about the solutions? Do they have something in common? ...<!--\n",
    "The gradient to the surface and the gradient to the constraint curve are parallel to each other.-->"
   ]
  },
  {
   "cell_type": "code",
   "execution_count": null,
   "metadata": {
    "colab": {
     "base_uri": "https://localhost:8080/",
     "height": 641
    },
    "id": "X4j43IpJfY__",
    "outputId": "706a0b90-4da5-47c0-8897-7bba208abfad",
    "scrolled": true
   },
   "outputs": [],
   "source": [
    "from IPython.display import IFrame\n",
    "\n",
    "IFrame(\"https://www.geogebra.org/classic/vbbkutmc\", 1100, 600)"
   ]
  },
  {
   "cell_type": "code",
   "execution_count": null,
   "metadata": {
    "id": "_gxTq4zAfY__",
    "scrolled": false
   },
   "outputs": [],
   "source": [
    "IFrame(\"https://www.geogebra.org/classic/kr3vzrvm\", 1100, 700)"
   ]
  },
  {
   "cell_type": "markdown",
   "metadata": {
    "id": "3cPzYqyJfY__"
   },
   "source": [
    "### 3.5.2 Formalising the method of Lagrange multipliers\n",
    "\n",
    "The behaviour that we have observed for the two particular examples can be generalised. For any extreme point $x$ of $f$ under the constraint $g = 0$ it holds that their gradients should be alined, i.e. there exists a coefficient $\\lambda \\in \\mathbb{R}$ such that\n",
    "\n",
    "\\begin{align}\n",
    "    \\nabla f(x) = \\lambda \\nabla g(x) \\quad \\quad (1)\n",
    "\\end{align}\n",
    "\n",
    "Of course the point $x$, that we are looking for, should also satisfy the constraint equation\n",
    "\n",
    "$$g(x) = 0 \\quad \\quad \\quad \\quad \\ \\ \\  \\ (2)$$\n",
    "\n",
    "Let us define the Lagrangian function $\\mathcal{L}: \\mathbb{R}^n \\times \\mathbb{R}$ by\n",
    "$$\\mathcal{L}(x,\\lambda) = f(x) - \\lambda g(x)$$\n",
    "\n",
    "The gradient of the Lagrangian is\n",
    "\n",
    "$$\\nabla \\mathcal{L}(x,\\lambda) = \\nabla \\mathcal{L}(\\overbrace{x_1, x_2, \\ldots, x_n}^{x},\\lambda) = \\Big(\\overbrace{\\frac{\\partial \\mathcal{L}}{\\partial x_1}, \\frac{\\partial \\mathcal{L}}{\\partial x_2}, \\ldots, \\frac{\\partial \\mathcal{L}}{\\partial x_n}}^{\\nabla_x \\mathcal{L}}, \\frac{\\partial \\mathcal{L}}{\\partial \\lambda} \\Big) = \\Big(\\overbrace{\\frac{\\partial(f-\\lambda g)}{\\partial x_1}, \\frac{\\partial(f-\\lambda g)}{\\partial x_2}, \\ldots, \\frac{\\partial(f-\\lambda g)}{\\partial x_n}}^{\\quad \\quad \\quad \\nabla(f-\\lambda g)\\ =\\ \\nabla f - \\lambda \\nabla g}, -g \\Big)$$\n",
    "\n",
    "Thus equations (1) and (2) are equivalent to\n",
    "\n",
    "$$\\nabla \\mathcal{L}(x, \\lambda) = 0$$\n",
    "\n",
    "Our goal was to find the solutions of the constrained optimisation problem. We have managed to conclude that all solutions should satisfy $\\nabla \\mathcal{L}(x, \\lambda) = 0$, i.e. they should be stationary points of the associated Lagrangian $\\mathcal{L}(x,\\lambda) = f(x) - \\lambda g(x)$.\n",
    "\n",
    "The method of Lagrange multipliers for solving constrained optimisation problems formulated in two steps:\n",
    "* find the candidates, i.e. the stationary points of the Lagrangian,\n",
    "* check for which of them is the value of the target function optimal.\n",
    "\n",
    "-----------------\n",
    "\n",
    "### 3.5.3 Visual summary for the method of Lagrange multipliers\n",
    "Let $f, g: \\mathbb{R}^n \\to \\mathbb{R}$ be two differentiable functions.\n",
    "\n",
    "For a fixed $\\lambda \\in \\mathbb{R}$ we defined the Lagrangian $\\mathcal{L}: \\mathbb{R}^n \\times \\mathbb{R} \\to \\mathbb{R}$ as\n",
    "\n",
    "$$\\mathcal{L}(x, \\lambda) = f(x) - \\lambda g(x)$$\n",
    "\n",
    "**The method of Lagrange multipliers**\n",
    "\n",
    "\\begin{align*}\n",
    "\\left\\{\\begin{array}{ll}\n",
    "\\mbox{target function:}& f(x) \\to \\min\\\\\n",
    "\\mbox{constraint:}& g(x) = 0\n",
    "\\end{array}\n",
    "\\right. \\quad \\Rightarrow \\quad\n",
    "\\left\\{\\begin{array}{l}\n",
    "\\exists \\lambda:  \\nabla f(x) = \\lambda \\nabla g(x)\\\\\n",
    " g(x) = 0\n",
    "\\end{array}\n",
    "\\right. \\quad \\Leftrightarrow \\quad \\nabla \\mathcal{L}(x,\\lambda) = 0\n",
    "\\end{align*}"
   ]
  },
  {
   "cell_type": "markdown",
   "metadata": {
    "id": "zLU_SkRTfZAA"
   },
   "source": [
    "----------------\n",
    "**Exercise**\n",
    "\n",
    "Minimise the function $f(x,y) = 0.5(y-x)^2 + 0.5(1-x)^2$ under the constraint $\\frac{x^2}{40^2} + \\frac{y^2}{20^2} = 1$ by using the Lagrange multipliers method. You can do so, by carrying out the calculations by hand or by completing the below code with the missing functions. Check whether your solution is realistic by taking a look at the plot of the surface with its contour lines and gradients and of the curve satisfying the constraint."
   ]
  },
  {
   "cell_type": "code",
   "execution_count": null,
   "metadata": {
    "id": "MaaEOgv7fZAA"
   },
   "outputs": [],
   "source": [
    "# Import libraries\n",
    "import numpy as np\n",
    "from scipy import optimize\n",
    "\n",
    "# First we define the functions, YOU SHOULD IMPLEMENT THESE\n",
    "def f(x, y):\n",
    "    return 0.5*(y-x)**2 + 0.5*(1-x)**2\n",
    "\n",
    "def g(x, y):\n",
    "    return x**2/40**2 + y**2/20**2 - 1\n",
    "\n",
    "# Next their derivatives, YOU SHOULD IMPLEMENT THESE\n",
    "def dfdx(x, y):\n",
    "    return -(y-x)-(1-x)\n",
    "\n",
    "def dfdy(x, y):\n",
    "    return (y-x) #input this function\n",
    "\n",
    "def dgdx(x, y):\n",
    "    return 2*x/40**2 #input this function\n",
    "\n",
    "def dgdy(x, y):\n",
    "    return 2*y/20**2 #input this function\n",
    "\n",
    "# We define the gradient of the Lagrangian function.\n",
    "def DL(xyλ):\n",
    "    [x, y, λ] = xyλ\n",
    "    return np.array([\n",
    "            dfdx(x, y) - λ * dgdx(x, y),\n",
    "            dfdy(x, y) - λ * dgdy(x, y),\n",
    "            - g(x, y)\n",
    "        ])\n",
    "\n",
    "# We use the optimize.root method to find the roots of the Lagrangian.\n",
    "\n",
    "x0, y0, λ0 = (10, 10, 0)\n",
    "x, y, λ = optimize.root(DL, [x0, y0, λ0]).x\n",
    "print(f\"x = {x:.3f}\")\n",
    "print(f\"y = {y:.3f}\")\n",
    "print(f\"λ = {λ:.3f}\")\n",
    "print(f\"f(x, y) = {f(x,y):.3f}\")"
   ]
  },
  {
   "cell_type": "code",
   "execution_count": null,
   "metadata": {
    "id": "ZMe900f4fZAA",
    "scrolled": false
   },
   "outputs": [],
   "source": [
    "import numpy as np\n",
    "import matplotlib.pyplot as plt\n",
    "\n",
    "feature_x = np.arange(-50, 50, 4)\n",
    "feature_y = np.arange(-50, 50, 4)\n",
    "\n",
    "x, y = np.meshgrid(feature_x, feature_y)\n",
    "f = 0.5*(y-x)**2 + 0.5*(1-x)**2 #x**2 - y**2 #0.5*(y-x)**2 + 0.5*(1-x)**2\n",
    "dfdx = 2*x - y - 1 #2*x #2*x - y - 1\n",
    "dfdy = y-x #-2*y #y - x\n",
    "\n",
    "# Normalize all gradients to focus on the direction not the magnitude\n",
    "norm = np.linalg.norm(np.array((dfdx, dfdy)), axis=0)\n",
    "dfdx = dfdx / norm\n",
    "dfdy = dfdy / norm\n",
    "\n",
    "fig, ax = plt.subplots(figsize=(10, 10))\n",
    "ax.set_aspect(1)\n",
    "#ax.plot(feature_x, feature_y, c='k')\n",
    "ax.quiver(x, y, dfdx, dfdy, units='xy', scale=0.3, color='gray')\n",
    "ax.contour(x, y, f, 15, cmap='jet')\n",
    "\n",
    "#g_x = np.arange(-10, 10, 0.1)\n",
    "#g_y = g_x**2\n",
    "angle = np.arange(0, 2*np.pi, 0.1)\n",
    "g_x = 40*np.cos(angle)\n",
    "g_y = 20*np.sin(angle)\n",
    "ax.plot(g_x,g_y, '-r')\n",
    "ax.set_ylim([-50,50]);\n",
    "\n",
    "#arrow = FancyArrowPatch((35, 35), (35+34*0.2, 35+0), arrowstyle='simple',\n",
    "#                        color='r', mutation_scale=10)\n",
    "#ax.add_patch(arrow)  # NOTE: this gradient is scaled to make it better visible"
   ]
  },
  {
   "cell_type": "markdown",
   "metadata": {
    "id": "mLC3eYhnfZAA"
   },
   "source": [
    "--------------------\n",
    "**Example**\n",
    "A detailed explanation and example for the Lagrange multipliers method can be found under [this link](https://jonathan-hui.medium.com/machine-learning-lagrange-multiplier-dual-decomposition-4afe66158c9).\n",
    "\n",
    "---------------------------\n",
    "**Remark**\n",
    "We will use the method of Lagrange multipliers to derive the PCA.\n",
    "\n",
    "-------------------\n",
    "\n",
    "**Last remark on calculus**\n",
    "\n",
    "Towards the end of the 17th century, beginning of the 18th century there was a big fight between Newton and Leibniz, who both started to develop and formalise the theory of calculus. You can read more about it [here](https://en.wikipedia.org/wiki/Leibniz%E2%80%93Newton_calculus_controversy)."
   ]
  },
  {
   "cell_type": "markdown",
   "metadata": {
    "id": "EngZ3uXefZAB"
   },
   "source": [
    "<[ Linear Algebra ](LinearAlgebra.ipynb)|[ Statistics ](Statistics.ipynb)>"
   ]
  }
 ],
 "metadata": {
  "colab": {
   "provenance": []
  },
  "kernelspec": {
   "display_name": "Python 3 (ipykernel)",
   "language": "python",
   "name": "python3"
  },
  "language_info": {
   "codemirror_mode": {
    "name": "ipython",
    "version": 3
   },
   "file_extension": ".py",
   "mimetype": "text/x-python",
   "name": "python",
   "nbconvert_exporter": "python",
   "pygments_lexer": "ipython3",
   "version": "3.10.9"
  }
 },
 "nbformat": 4,
 "nbformat_minor": 1
}
