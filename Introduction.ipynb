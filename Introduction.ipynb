{
 "cells": [
  {
   "cell_type": "markdown",
   "metadata": {},
   "source": [
    "[![Binder](https://mybinder.org/badge_logo.svg)](https://mybinder.org/v2/gh/KingaS03/Mathematics-for-Machine-Learning-and-Data-Science/master)\n",
    "\n",
    "[![Open In Colab](https://colab.research.google.com/assets/colab-badge.svg)](https://colab.research.google.com/github/KingaS03/Mathematics-for-Machine-Learning-and-Data-Science)\n",
    "\n",
    "|[ Linear Algebra ](LinearAlgebra.ipynb)>\n",
    "\n",
    "# 1. Introduction to the Mathematics Module for ML and DS"
   ]
  },
  {
   "cell_type": "markdown",
   "metadata": {},
   "source": [
    "We are going to consider a common machine learning context, as this is illustrating all the major components of our course.\n",
    "\n",
    "## 1.1. Machine learning versus classical programming\n",
    "First let's take a look at machine learning and compare it with classical programming.\n",
    "\n",
    "------------------------------------\n",
    "*Machine Learning is the \"field of study that gives computers the ability to learn without being explicitly programmed.\"* - Arthur Samuel, 1959\n",
    "\n",
    "-------------------------------------\n",
    "\n",
    "<center>\n",
    "<img src=\"Images/TraditionalProgr.png\" width=\"300\"> \n",
    "</center>\n",
    "\n",
    "versus\n",
    "\n",
    "<center>\n",
    "<img src=\"Images/MachineLearning0.png\" width=\"300\"> \n",
    "</center>\n",
    "\n",
    "In case of some machine learning problems the resulting rules can be conceived as a model, which for any input data is able to predict the associated output. \n",
    "\n",
    "<center>\n",
    "<img src=\"Images/MachineLearning1.png\" width=\"300\"> \n",
    "</center>\n",
    "\n",
    "Mathematically we can think of this model as a function that assigns to an input value a predicted output value and at the same time it depends also on some model parameters (weights and intercept). The model parameters are determined in such a way to minimise the loss function. This phenomenon is concisely described in the following quote:\n",
    "\n",
    "-----------\n",
    "*\"A computer program is said to learn from experience E with respect to some task T and some performance measure P, if its performance on T, as measured by P, improves with experience E.\"* - Tom Mitchell, 1997\n",
    "\n",
    "---------------\n",
    "\n",
    "## 1.2. Simple machine learning setting - Linear regression\n",
    "One of the simplest settings of a machine learning algorithm is the linear regression. To get a quick intuition about how it works play with the below interactive graph. You can change the position of the blue datapoints by dragging them with the mouse. You can change the position of the red line by moving the two red points of it.\n",
    "\n",
    "What happens on the plot on the right hand side if you change the position of one of the red points? How can you explain the observed behaviour?\n",
    "\n",
    "Take a look at the blue end red values in the upper right corner. How do these values change?\n",
    "\n",
    "What is the starting point of a regression analysis and what is its objective?"
   ]
  },
  {
   "cell_type": "code",
   "execution_count": 2,
   "metadata": {},
   "outputs": [
    {
     "data": {
      "text/html": [
       "\n",
       "        <iframe\n",
       "            width=\"1400\"\n",
       "            height=\"600\"\n",
       "            src=\"https://www.geogebra.org/classic/gvtvpem2\"\n",
       "            frameborder=\"0\"\n",
       "            allowfullscreen\n",
       "        ></iframe>\n",
       "        "
      ],
      "text/plain": [
       "<IPython.lib.display.IFrame at 0x1054a7860>"
      ]
     },
     "execution_count": 2,
     "metadata": {},
     "output_type": "execute_result"
    }
   ],
   "source": [
    "from IPython.display import IFrame\n",
    "\n",
    "#IFrame(\"https://www.geogebra.org/m/xC6zq7Zv\",800,800)\n",
    "IFrame(\"https://www.geogebra.org/classic/gvtvpem2\", 1400, 600)"
   ]
  },
  {
   "cell_type": "markdown",
   "metadata": {},
   "source": [
    "Let's take a look at a concrete numerical example:\n",
    "\n",
    "We would like to predict the price of apartments as a linear function of their surface.\n",
    "\n",
    "We consider the following data points:\n",
    "    \n",
    "| Surface area in $m^2$ | Price in tausends of CHF | \n",
    "| --- | --- |\n",
    "| 40| 275| \n",
    "| 70 | 500 | \n",
    "| 80 | 470 | \n",
    "| 100 | 650 | \n",
    "| 115 | 690 | \n",
    "| 120 | 750 | \n",
    "\n",
    "The surface area, denoted by $x$, is the single **explanatory/dependent variable**. \n",
    "\n",
    "The price, denoted by $y$, is the single **independent variable**.\n",
    "\n",
    "The apartments, whose prices are enlisted in the above table are called **observations** and we will refer to their **features** (surface and price) as $x_i$, respectively $y_i$, where $i$ is the index of the apartment ($i = \\overline{0,5}$).\n",
    "\n",
    "We would like to approximate our data points by a line defined by the equation\n",
    "$$ y = w\\cdot x + b,$$\n",
    "where $w$ is called **weight/gradient** and $b$ is called **intercept**. These parameters $w$ and $b$ are determined in such a way that the mean squared error of the approximations is minimal.\n",
    "\n",
    "For our set of apartments the **$MSE$ (mean squared error)** can be calculated as follows:\n",
    "$$\\begin{align*}\n",
    "MSE &= \\frac{1}{6}\\sum_{i=0}^5 \\left(y_i - (w \\cdot x_i + b)\\right)^2\\\\\n",
    "& = \\frac{1}{6}\\left(\\left(275-(w\\cdot 40 + b)\\right)^2 + \\left(500-(w\\cdot 70 + b)\\right)^2 + \\left(470-(w\\cdot 80 + b)\\right)^2 + \\left(650-(w\\cdot 100 + b)\\right)^2 + \\left(690-(w\\cdot 115 + b)\\right)^2 + \\left(750-(w\\cdot 120 + b)\\right)^2\\right)\n",
    "\\end{align*}$$\n",
    "\n",
    "$MSE$ is a function of the parameters $b$ and $w$.\n",
    "\n",
    "The goal is to determine the parameters $b$ and $w$ in such a way to obtain the minimal $MSE$.\n",
    "\n",
    "Experiment with the following code. Fit the red line to the data points by trying out different values for the parameters $w$ and $b$."
   ]
  },
  {
   "cell_type": "code",
   "execution_count": 3,
   "metadata": {},
   "outputs": [
    {
     "data": {
      "text/plain": [
       "Text(0, 0.5, 'Price (tausend CHF)')"
      ]
     },
     "execution_count": 3,
     "metadata": {},
     "output_type": "execute_result"
    },
    {
     "data": {
      "image/png": "[encoded data removed]",
      "text/plain": [
       "<Figure size 432x288 with 1 Axes>"
      ]
     },
     "metadata": {
      "needs_background": "light"
     },
     "output_type": "display_data"
    }
   ],
   "source": [
    "import matplotlib.pyplot as plt\n",
    "import numpy as np\n",
    "\n",
    "# 300 random samples\n",
    "x = np.array([40, 70, 80, 100, 115, 120])\n",
    "y = np.array([275, 500, 470, 650, 690, 750])\n",
    "\n",
    "plt.plot(x, y, 'o') #scatter plot of data points\n",
    "\n",
    "w = 5.9 # change this value\n",
    "b = 40 # change this value\n",
    "\n",
    "plt.plot(x, b + w*x) #add line of best fit\n",
    "\n",
    "MSE = np.mean((y-(b + w*x))**2)\n",
    "\n",
    "# legend, title, and labels.\n",
    "plt.text(40,700, f\"MSE ={MSE:.2f}\")\n",
    "plt.title('Surface area and price of apartments', size=18)\n",
    "plt.xlabel('Surface (m^2)', size=18)\n",
    "plt.ylabel('Price (tausend CHF)', size=18)"
   ]
  },
  {
   "cell_type": "markdown",
   "metadata": {},
   "source": [
    "Compare your values with the optimal ones, by running the code<br> \n",
    "`w, b = np.polyfit(x, y, 1)`."
   ]
  },
  {
   "cell_type": "markdown",
   "metadata": {},
   "source": [
    "Due to the simplicity of the linear model, it is possible to derive the explicit formulas for the parameters by calculating the partial derivatives of the $MSE$ w.r.t. the parameters and setting the values of these to $0$. Without detailed explanation \n",
    "$$\\frac{\\partial MSE}{\\partial w} = 0, \\quad \\frac{\\partial MSE}{\\partial b} = 0$$\n",
    "one can conclude:\n",
    "$$\\left\\{\\begin{align*}\n",
    "w &= \\frac{\\sum\\limits_i (x_i - \\overline{x})\\cdot (y_i-\\overline{y})}{\\sum\\limits_i(x_i - \\overline{x})^2} = 5.70\\\\\n",
    "b &= \\overline{y}-w\\cdot \\overline{x} = 57.30\n",
    "\\end{align*}\\right.\n",
    "$$\n",
    "where $\\overline{x} = \\frac{\\sum_i x_i}{n}$ and $\\overline{y} = \\frac{\\sum_i y_i}{n}$\n"
   ]
  },
  {
   "cell_type": "markdown",
   "metadata": {},
   "source": [
    "## 1.3. Neural networks\n",
    "The above univariate linear regression model can be represented as\n",
    "\n",
    "<center>\n",
    "<img src=\"Images/Network0.png\" width=\"300\"> \n",
    "</center>\n",
    "\n",
    "For the future notation we leave away the virtual input of 1.\n",
    "\n",
    "Now we make the model more complex by extending it step-by-step to a two-layer neural network. First we apply an activation function $g$ to the linear transformation $b+w \\cdot x$.\n",
    "\n",
    "<center>\n",
    "<img src=\"Images/Network1.png\" width=\"320\"> \n",
    "</center>\n",
    "\n",
    "The above red ball corresponds to the smallest building unit of a neural network, namely a **neuron**. In a neuron:\n",
    "- there happens **a linear transformation**\n",
    "- to which **an activation function** is applied and this provides the output of the neuron.\n",
    "\n",
    "Next we allow for more inputs. \n",
    "<center>\n",
    "<img src=\"Images/MultiNetwork00.png\" width=\"320\"> \n",
    "</center>\n",
    "\n",
    "Finally we allow also for more outputs and we have two hidden layers. \n",
    "<center>\n",
    "<img src=\"Images/MultiNetwork2.png\" width=\"500\"> \n",
    "</center>\n",
    "\n",
    "The number of hidden layers indicates that the last neural network is a two-layer neural network.\n"
   ]
  },
  {
   "cell_type": "markdown",
   "metadata": {},
   "source": [
    "## 1.4. Motivation\n",
    "\n",
    "Exactly as in the case of linear regression the weight matrices $W^{(1)}$, $W^{(2)}$, respectively the intercepts $b^{(1)}$ and $b^{2}$ will be parameters of **the loss function** which is subject to **minimisation**. In the general case there is no immediate straightforward formula for the optimal parameters. \n",
    "\n",
    "<center>\n",
    "The minimum of the loss function can be approximated by the <b>gradient descent</b> method. \n",
    "    $$\\hspace{-2cm}\\Uparrow$$\n",
    "For the gradient descent method we should be able to derive the <b>partial derivatives</b> of the outputs w.r.t. all parameters of the model.\n",
    "    $$\\hspace{-2cm}\\Uparrow$$\n",
    "For neural networks with more hidden layers and differentiable activation functions these partial derivatives can be deremined by the <b>chain rule</b>.\n",
    "$$\\hspace{-2cm}\\Uparrow$$\n",
    "To apply the chain rule for a setting like in the last network, one needs to perform <b>matrix multiplications</b>.\n",
    "</center>\n",
    "\n",
    "The number of machine learning parameters is large. That's why generally a huge amount of input data is needed to determine the model parameters. Alternatively, if we don't possess that much data, we can reduce the dimensionality of the input data (and by that we end up also with a smaller number of model parameters). For dimensionality reduction we can use the **PCA (principal component analysis)**, which is the same as singular value decomposition. The first name is used more in the circle of statisticians and the second name is more popular among theoretical mathematicians. To derive PCA, we need the notion of **orthogonal projection**, **eigenvalues and eigenvectors**, **the method of Lagrange multipliers** and some **descriptive statistics**.\n",
    "\n",
    "Furthermore, when the output of a neural network is a distribution, **probability theory** will be needed also to measure the distance between the observed distribution and the predicted one."
   ]
  },
  {
   "cell_type": "markdown",
   "metadata": {},
   "source": [
    "## 1.5. Schedule\n",
    "-Linear algebra\n",
    " \n",
    "-Calculus\n",
    "\n",
    "-PCA\n",
    "\n",
    "-Probability theory and statistics"
   ]
  },
  {
   "cell_type": "markdown",
   "metadata": {},
   "source": [
    "|[ Linear Algebra ](LinearAlgebra.ipynb)>"
   ]
  }
 ],
 "metadata": {
  "kernelspec": {
   "display_name": "Python 3",
   "language": "python",
   "name": "python3"
  },
  "language_info": {
   "codemirror_mode": {
    "name": "ipython",
    "version": 3
   },
   "file_extension": ".py",
   "mimetype": "text/x-python",
   "name": "python",
   "nbconvert_exporter": "python",
   "pygments_lexer": "ipython3",
   "version": "3.6.10"
  }
 },
 "nbformat": 4,
 "nbformat_minor": 4
}
